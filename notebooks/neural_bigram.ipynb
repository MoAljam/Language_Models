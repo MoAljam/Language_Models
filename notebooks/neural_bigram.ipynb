{
 "cells": [
  {
   "cell_type": "code",
   "execution_count": 1,
   "id": "ebac1662",
   "metadata": {},
   "outputs": [],
   "source": [
    "# # uncomment if running in colab\n",
    "# # install the github repo https://github.com/MoAljam/Language_Models.git\n",
    "# !git clone https://github.com/MoAljam/Language_Models.git\n",
    "# # change to repo dir and install requirements\n",
    "# %cd /content/GPT_from_scratch/\n",
    "# %pip install -r requirements.txt\n",
    "# # download and prep preprocess data\n",
    "# !python ./data/clean_nltk_shakespear_data_w_nl.py\n",
    "# # change to notebooks dir\n",
    "# %cd /content/GPT_from_scratch/notebooks/\n",
    "# %pwd ."
   ]
  },
  {
   "cell_type": "markdown",
   "id": "e72e688f",
   "metadata": {},
   "source": [
    "## imports"
   ]
  },
  {
   "cell_type": "code",
   "execution_count": null,
   "id": "0835929e",
   "metadata": {},
   "outputs": [],
   "source": [
    "import torch\n",
    "import torch.nn as nn\n",
    "import torch.nn.functional as F    \n",
    "from torch.optim import AdamW\n",
    "from torch.optim import ASGD\n",
    "from torch.amp import GradScaler\n",
    "from torch.optim.lr_scheduler import CosineAnnealingLR\n",
    "from torch.optim.lr_scheduler import CosineAnnealingWarmRestarts\n",
    "from torch.utils.tensorboard import SummaryWriter\n",
    "\n",
    "import numpy as np\n",
    "import pandas as pd\n",
    "import matplotlib.pyplot as plt\n",
    "from tqdm.auto import tqdm\n",
    "import time\n",
    "from functools import partial\n",
    "\n",
    "import json\n",
    "import os\n",
    "\n",
    "CHECKPOINT_DIR = os.path.join(\"..\", \"checkpoints\", \"nBigram\")\n",
    "LOG_DIR = os.path.join(\"..\", \"logs\", \"nBigram\")\n",
    "RESULTS_DIR = os.path.join(\"..\", \"results\", \"nBigram\")\n",
    "\n",
    "os.makedirs(CHECKPOINT_DIR, exist_ok=True)\n",
    "os.makedirs(RESULTS_DIR, exist_ok=True)\n",
    "os.makedirs(LOG_DIR, exist_ok=True)"
   ]
  },
  {
   "cell_type": "code",
   "execution_count": 3,
   "id": "295d588b",
   "metadata": {},
   "outputs": [],
   "source": [
    "# add parent directory to the path to allow imports\n",
    "import sys\n",
    "sys.path.append(os.path.abspath(os.path.join(os.getcwd(), \"..\")))\n",
    "\n",
    "from neural_bigram import NeuralBigram, ConfigNeuralBigram\n",
    "from train import train, evaluate, evaluate_ppl, ConfigTrain\n",
    "from utils import init_dataloader, WarmupThenCosine, set_seed, count_params, save_checkpoint, load_checkpoint\n",
    "from bpe_hf import train_bytelevel_bpe, train_and_encode_tokenizer, load_tokenizer, TOK_SPECIAL_TOKENS, TOK_SAVE_DIR"
   ]
  },
  {
   "cell_type": "markdown",
   "id": "c7db0df6",
   "metadata": {},
   "source": [
    "## load data"
   ]
  },
  {
   "cell_type": "code",
   "execution_count": 4,
   "id": "3f18254b",
   "metadata": {},
   "outputs": [
    {
     "name": "stdout",
     "output_type": "stream",
     "text": [
      "train text charachters length:  883046\n",
      "train text words count:  158364\n",
      "train text first 100 chars:  The Tragedy of Antony and Cleopatra\n",
      "\n",
      "\n",
      "Dramatis Personae\n",
      "\n",
      "\n",
      "\n",
      "MARK ANTONY\n",
      "OCTAVIUS CAESAR\n",
      "M. AEMILIUS L\n"
     ]
    }
   ],
   "source": [
    "data_dir = \"../data/\"\n",
    "# without nl\n",
    "# train_file = \"Shakespeare_clean_train.txt\"\n",
    "# val_file = \"Shakespeare_clean_valid.txt\"\n",
    "# test_file = \"Shakespeare_clean_test.txt\"\n",
    "\n",
    "# with nl\n",
    "train_file = \"Shakespeare_clean_w_nl_train.txt\"\n",
    "val_file = \"Shakespeare_clean_w_nl_valid.txt\"\n",
    "test_file = \"Shakespeare_clean_w_nl_test.txt\"\n",
    "\n",
    "train_file = os.path.join(data_dir, train_file)\n",
    "test_file = os.path.join(data_dir, test_file)\n",
    "val_file = os.path.join(data_dir, val_file)\n",
    "\n",
    "with open(train_file, \"r\", encoding=\"utf-8\") as f:\n",
    "    train_text = f.read().strip()\n",
    "\n",
    "with open(val_file, \"r\", encoding=\"utf-8\") as f:\n",
    "    val_text = f.read().strip()\n",
    "\n",
    "with open(test_file, \"r\", encoding=\"utf-8\") as f:\n",
    "    test_text = f.read().strip()\n",
    "\n",
    "print(\"train text charachters length: \", len(train_text))\n",
    "print(\"train text words count: \", len(train_text.split()))\n",
    "print(\"train text first 100 chars: \", train_text[:100])"
   ]
  },
  {
   "cell_type": "markdown",
   "id": "8176563d",
   "metadata": {},
   "source": [
    "## initialize tokensizer and data embeddings"
   ]
  },
  {
   "cell_type": "code",
   "execution_count": 5,
   "id": "1027401e",
   "metadata": {},
   "outputs": [
    {
     "name": "stdout",
     "output_type": "stream",
     "text": [
      "vocab size:  1060\n",
      "BPE tokenizer vocab:  [('Ġlet', 528), ('ORAT', 920), ('Ġnot', 337), ('?', 34), ('Ġstre', 1054), ('th', 573), ('Ġmade', 872), ('ure', 501), ('ft', 821), ('¤', 101), ('Ġmake', 619), ('IN', 598), ('ĠSha', 1004), ('ĥ', 229), ('Ġdid', 546), ('ë', 171), ('Ġup', 461), ('Ġra', 929), ('ur', 368), ('Ö', 150), ('ē', 211), ('K', 46), ('use', 928), ('led', 989), ('ould', 391), ('ro', 409), ('Ġgood', 505), ('Ġout', 629), ('ĠHer', 1048), ('us', 344), ('ue', 611), ('ĠDESDEMON', 967), ('oth', 520), ('nce', 914), ('Ġse', 400), ('Ġper', 856), ('Į', 238), ('and', 430), ('ate', 556), ('ard', 495), ('ING', 965), ('ø', 184), ('Ė', 214), ('·', 119), ('od', 645), ('Ġhat', 524), ('ome', 365), ('ise', 654), ('ĠAntony', 745), ('«', 108), ('ity', 724), ('alk', 1049), ('Ġfo', 731), ('Ġwit', 986), ('Ġfear', 758), ('Ă', 194), ('Ġfa', 436), ('Ġma', 1024), ('Ġqu', 584), ('\\\\', 63), ('ENE', 768), ('ep', 512), ('ĠCAPULET', 943), (':', 29), ('im', 338), ('ms', 1031), ('Ġan', 421), ('Ġdone', 830), ('<unk>', 1), ('ĠOr', 886), ('UL', 851), ('Ġam', 471), ('ho', 444), ('ess', 410), ('AN', 440), ('Þ', 158), ('<bos>', 2), ('han', 448), ('ment', 782), ('ly', 395), ('ĠNot', 1007), ('Q', 52), ('Ġru', 873), ('ĠMA', 538), ('ğ', 223), ('Ġp', 300), ('u', 88), ('RAT', 733), ('Ġa', 264), ('Ġcou', 878), ('Ġfor', 347), ('Ġeyes', 849), ('Ġgone', 982), ('Ġshow', 899), ('ac', 827), ('Ġim', 840), ('ITIUS', 1008), ('ĠFirst', 732), ('Ġmar', 813), ('Ġart', 842)]\n",
      "train ids length:  389320\n",
      "train ids first 100 ids:  [362, 292, 375, 74, 334, 92, 302, 745, 298, 316, 323, 959, 311, 375, 202, 202, 202, 39, 375, 80, 311, 274, 370, 493, 282, 68, 72, 202, 202, 202, 202, 48, 394, 46, 609, 202, 50, 794, 57, 407, 777, 202, 48, 17, 293, 40, 760, 47, 407, 348, 40, 51, 44, 39, 358, 202, 87, 360, 607, 89, 329, 86, 17, 202, 202, 202, 54, 40, 59, 55, 358, 370, 568, 51, 40, 407, 202, 202, 202, 39, 568, 1008, 1010, 202, 57, 419, 55, 44, 862, 202, 446, 50, 54, 202, 54, 38, 394, 358, 202, 1015]\n",
      "train ids first 100 individual tokens:  ['ĠThe', 'ĠT', 'ra', 'g', 'ed', 'y', 'Ġof', 'ĠAntony', 'Ġand', 'ĠC', 'le', 'op', 'at', 'ra', 'Ċ', 'Ċ', 'Ċ', 'D', 'ra', 'm', 'at', 'is', 'ĠP', 'ers', 'on', 'a', 'e', 'Ċ', 'Ċ', 'Ċ', 'Ċ', 'M', 'AR', 'K', 'ĠANTONY', 'Ċ', 'O', 'CTA', 'V', 'IUS', 'ĠCAESAR', 'Ċ', 'M', '.', 'ĠA', 'E', 'MI', 'L', 'IUS', 'ĠL', 'E', 'P', 'I', 'D', 'US', 'Ċ', 't', 'ri', 'um', 'v', 'ir', 's', '.', 'Ċ', 'Ċ', 'Ċ', 'S', 'E', 'X', 'T', 'US', 'ĠP', 'OM', 'P', 'E', 'IUS', 'Ċ', 'Ċ', 'Ċ', 'D', 'OM', 'ITIUS', 'ĠENOBARBUS', 'Ċ', 'V', 'EN', 'T', 'I', 'DIUS', 'Ċ', 'ER', 'O', 'S', 'Ċ', 'S', 'C', 'AR', 'US', 'Ċ', 'DER']\n"
     ]
    }
   ],
   "source": [
    "N_MERGES = 800\n",
    "MIN_FREQ = 2\n",
    "SPECIAL_TOKENS = TOK_SPECIAL_TOKENS.copy()\n",
    "PAD_TOKEN = SPECIAL_TOKENS.get(\"pad\", \"<pad>\")\n",
    "BOS_TOKEN = SPECIAL_TOKENS.get(\"bos\", \"<bos>\")\n",
    "EOS_TOKEN = SPECIAL_TOKENS.get(\"eos\", \"<eos>\")\n",
    "\n",
    "tok_name = f\"bpe_mBigram_{N_MERGES}.json\"\n",
    "tok_dir = TOK_SAVE_DIR\n",
    "bpe_tokenizer = train_bytelevel_bpe(\n",
    "    merges=N_MERGES,\n",
    "    min_frequency=MIN_FREQ,\n",
    "    files=[train_file],\n",
    "    lowercase=False,\n",
    "    add_prefix_space=True,\n",
    "    special_tokens=SPECIAL_TOKENS,\n",
    "    save_filename=tok_name,\n",
    "    save_dir=tok_dir\n",
    ")\n",
    "\n",
    "encode = partial(bpe_tokenizer.encode, add_special_tokens=False)\n",
    "decode = bpe_tokenizer.decode\n",
    "vocab_size = bpe_tokenizer.get_vocab_size()\n",
    "print(\"vocab size: \", vocab_size)\n",
    "print(\"BPE tokenizer vocab: \", list(bpe_tokenizer.get_vocab().items())[:100])\n",
    "\n",
    "PAD_TOKEN_ID = bpe_tokenizer.token_to_id(PAD_TOKEN) \n",
    "BOS_TOKEN_ID = bpe_tokenizer.token_to_id(BOS_TOKEN)\n",
    "EOS_TOKEN_ID = bpe_tokenizer.token_to_id(EOS_TOKEN)\n",
    "\n",
    "train_ids = encode(train_text).ids\n",
    "val_ids = encode(val_text).ids\n",
    "test_ids = encode(test_text).ids\n",
    "\n",
    "print(\"train ids length: \", len(train_ids))\n",
    "print(\"train ids first 100 ids: \", train_ids[:100])\n",
    "print(\"train ids first 100 individual tokens: \", [bpe_tokenizer.id_to_token(i) for i in train_ids[:100]]) "
   ]
  },
  {
   "cell_type": "markdown",
   "id": "d3ed89b0",
   "metadata": {},
   "source": [
    "## define the model's and training parameters (configs)"
   ]
  },
  {
   "cell_type": "code",
   "execution_count": 6,
   "id": "18ed5e16",
   "metadata": {},
   "outputs": [
    {
     "name": "stdout",
     "output_type": "stream",
     "text": [
      "device:  cpu\n",
      "vocab size:  1060\n",
      "number of model parameters:  1123600\n",
      "number of batches in train loader:  12166\n",
      "number of batches in test loader:  1494\n",
      "number of batches in val loader:  1474\n",
      "log dir:  ../logs/neural_bigram/nbigram_bpe800/0.003_drop0.1_250827_122344\n",
      "checkpoint dir:  ../checkpoints/neural_bigram\n",
      "checkpoint best filename:  nbigram_bpe800_best.pt\n",
      "checkpoint last filename:  nbigram_bpe800_last.pt\n"
     ]
    }
   ],
   "source": [
    "SEED = 10\n",
    "DEVICE = \"cuda\" if torch.cuda.is_available() else \"cpu\"\n",
    "# hyperparameters \n",
    "# tokenizer\n",
    "# N_MERGES = 200\n",
    "# MIN_FREQ = 2\n",
    "# data\n",
    "BATCH_SIZE = 32\n",
    "BLOCK_SIZE = 128\n",
    "\n",
    "#  model\n",
    "DROPOUT = 0.1\n",
    "# optimizer\n",
    "LR = 3e-3\n",
    "WEIGHT_DECAY = 1e-4\n",
    "# lr scheduler\n",
    "ETA_MIN = 1e-7\n",
    "\n",
    "# training loop\n",
    "EPOCHS = 60\n",
    "ES_PATIENCE = 5\n",
    "ES_TOLERANCE = 1e-6\n",
    "GRAD_ACCUM_STEPS = 1\n",
    "USE_AMP = False # IMPORTANT: set to False if training on CPU training \n",
    "\n",
    "# checkpoints\n",
    "EVAL_INTERVAL = 2   # evaluate every n epochs\n",
    "CKPT_INTERVAL = 10  # save checkpoint every n epochs\n",
    "\n",
    "# make unique checkpoint file prefix from the parameters\n",
    "ckpt_file_prefix = f\"nbigram_bpe{N_MERGES}\"\n",
    "all_hparams_cfg_filename = f\"{ckpt_file_prefix}_hparams.json\"\n",
    "\n",
    "# config for training\n",
    "cfg_train = ConfigTrain(device=DEVICE,\n",
    "                    epochs=EPOCHS, \n",
    "                    early_stop_patience=ES_PATIENCE,\n",
    "                    early_stop_tolerance=ES_TOLERANCE,\n",
    "                    grad_accum_steps=GRAD_ACCUM_STEPS,\n",
    "                    # max_grad_norm=data.get(\"max_grad_norm\", 1.0),\n",
    "                    use_amp=USE_AMP,\n",
    "                    seed=SEED,\n",
    "                    eval_interval=EVAL_INTERVAL,\n",
    "                    ckpt_interval=CKPT_INTERVAL,\n",
    "                    ckpt_dir=CHECKPOINT_DIR,\n",
    "                    ckpt_best_filename=f\"{ckpt_file_prefix}_best.pt\",\n",
    "                    ckpt_last_filename=f\"{ckpt_file_prefix}_last.pt\",\n",
    "                    log_dir=os.path.join(LOG_DIR, f\"{ckpt_file_prefix}\", f'{LR}_drop{DROPOUT}_{time.strftime(\"%y%m%d_%H%M%S\")}'),\n",
    "                    )\n",
    "# config for model\n",
    "cfg_model = ConfigNeuralBigram(\n",
    "                    vocab_size=vocab_size,\n",
    "                    dropout=DROPOUT\n",
    "                    )\n",
    "\n",
    "print(\"device: \", DEVICE)\n",
    "# model \n",
    "print(\"vocab size: \", vocab_size)\n",
    "print(\"number of model parameters: \", count_params(NeuralBigram(config=cfg_model)))\n",
    "\n",
    "# print all log and checkpoint dir and \n",
    "print(\"number of batches in train loader: \", len(train_ids)//BATCH_SIZE)\n",
    "print(\"number of batches in test loader: \", len(test_ids)//BATCH_SIZE)\n",
    "print(\"number of batches in val loader: \", len(val_ids)//BATCH_SIZE)\n",
    "\n",
    "print(\"log dir: \", cfg_train.log_dir)\n",
    "print(\"checkpoint dir: \", cfg_train.ckpt_dir)\n",
    "print(\"checkpoint best filename: \", cfg_train.ckpt_best_filename)\n",
    "print(\"checkpoint last filename: \", cfg_train.ckpt_last_filename)\n"
   ]
  },
  {
   "cell_type": "markdown",
   "id": "c9a09a36",
   "metadata": {},
   "source": [
    "## Train the model"
   ]
  },
  {
   "cell_type": "code",
   "execution_count": 7,
   "id": "cd77a7f1",
   "metadata": {},
   "outputs": [
    {
     "name": "stdout",
     "output_type": "stream",
     "text": [
      "Model parameters: 1_123_600\n",
      "vocab size:  1060\n",
      "excepted iniital CE loss( uniform model ): 6.9660, ppl: 1060.0000\n",
      "not trained model Initial validation loss: 7.4209, ppl: 1670.5840\n",
      "NeuralBigram(\n",
      "  (embedding): Embedding(1060, 1060)\n",
      "  (dropout): Dropout(p=0.1, inplace=False)\n",
      ")\n"
     ]
    }
   ],
   "source": [
    "set_seed(cfg_train.seed)\n",
    "train_loader = init_dataloader(train_ids, BLOCK_SIZE, BATCH_SIZE, train=True, shuffle=True)\n",
    "val_loader = init_dataloader(val_ids, BLOCK_SIZE, BATCH_SIZE, train=False, shuffle=True)\n",
    "test_loader = init_dataloader(test_ids, BLOCK_SIZE, BATCH_SIZE, train=False, shuffle=False)\n",
    "\n",
    "\n",
    "model = NeuralBigram(cfg_model)\n",
    "model.to(cfg_train.device)\n",
    "model_size = count_params(model)\n",
    "\n",
    "optimizer = AdamW(model.parameters(), lr=LR, weight_decay=WEIGHT_DECAY)\n",
    "\n",
    "\n",
    "lr_scheduler = WarmupThenCosine(optimizer, warmup_steps=500, T_max=cfg_train.epochs * len(train_loader) // max(1, cfg_train.grad_accum_steps), eta_min=ETA_MIN)\n",
    "# rl_scheduler = CosineAnnealingLR(optimizer, T_max=cfg.epochs * len(train_loader) // max(1, cfg.grad_accum_steps), eta_min=ETA_MIN)\n",
    "# rl_scheduler = CosineAnnealingWarmRestarts(optimizer, T_0=2 * len(train_loader) // max(1, cfg.grad_accum_steps), T_mult=2, eta_min=ETA_MIN)\n",
    "\n",
    "scaler = GradScaler(enabled=cfg_train.use_amp)\n",
    "\n",
    "summary_writer = SummaryWriter(log_dir=cfg_train.log_dir, flush_secs=5)\n",
    "\n",
    "# add model graph to tensorboard\n",
    "# write model graph\n",
    "# dummy_input = torch.zeros((1, BLOCK_SIZE), dtype=torch.long, device=cfg_train.device)\n",
    "# summary_writer.add_graph(model.eval(), dummy_input)  # eval() avoids dropout noise\n",
    "# summary_writer.flush()\n",
    "# summary_writer.close()\n",
    "\n",
    "# compile the model (can skip if not needed)\n",
    "try:\n",
    "    if cfg_train.device == \"cpu\":\n",
    "        model.compile(mode=\"reduce-overhead\")\n",
    "    else:\n",
    "        model.compile()\n",
    "except Exception as e:\n",
    "    print(\"model compilation was not successful. Exception: \", e)\n",
    "\n",
    "# inspect the model\n",
    "print(f\"Model parameters: {model_size:_}\")\n",
    "print(\"vocab size: \", vocab_size)\n",
    "print(f\"excepted iniital CE loss( uniform model ): {-np.log(1/vocab_size):.4f}, ppl: {np.exp(-np.log(1/vocab_size)):.4f}\")\n",
    "# evaluate the untrained model\n",
    "val_loss = evaluate(model, val_loader, device=cfg_train.device)\n",
    "val_ppl = np.exp(val_loss)\n",
    "print(f\"not trained model Initial validation loss: {val_loss:.4f}, ppl: {val_ppl:.4f}\")\n",
    "print(model)"
   ]
  },
  {
   "cell_type": "code",
   "execution_count": 8,
   "id": "347c455c",
   "metadata": {},
   "outputs": [
    {
     "data": {
      "application/vnd.jupyter.widget-view+json": {
       "model_id": "b0d054786b5644b5a9c18ee46d3c7a49",
       "version_major": 2,
       "version_minor": 0
      },
      "text/plain": [
       "Training Progress:   0%|          | 0/60 [00:00<?, ?it/s]"
      ]
     },
     "metadata": {},
     "output_type": "display_data"
    },
    {
     "data": {
      "application/vnd.jupyter.widget-view+json": {
       "model_id": "345578475a8a4628bf7af518af25478c",
       "version_major": 2,
       "version_minor": 0
      },
      "text/plain": [
       "Epoch 1/60:   0%|          | 0/96 [00:00<?, ?it/s]"
      ]
     },
     "metadata": {},
     "output_type": "display_data"
    },
    {
     "data": {
      "application/vnd.jupyter.widget-view+json": {
       "model_id": "0de59581e0ed40ee90cf2e545f0ddfc4",
       "version_major": 2,
       "version_minor": 0
      },
      "text/plain": [
       "Epoch 2/60:   0%|          | 0/96 [00:00<?, ?it/s]"
      ]
     },
     "metadata": {},
     "output_type": "display_data"
    },
    {
     "data": {
      "application/vnd.jupyter.widget-view+json": {
       "model_id": "0dc0309220e74e009621f3007e6310d7",
       "version_major": 2,
       "version_minor": 0
      },
      "text/plain": [
       "Epoch 3/60:   0%|          | 0/96 [00:00<?, ?it/s]"
      ]
     },
     "metadata": {},
     "output_type": "display_data"
    },
    {
     "data": {
      "application/vnd.jupyter.widget-view+json": {
       "model_id": "4010d2e5233d40aeb4d440581d7880eb",
       "version_major": 2,
       "version_minor": 0
      },
      "text/plain": [
       "Epoch 4/60:   0%|          | 0/96 [00:00<?, ?it/s]"
      ]
     },
     "metadata": {},
     "output_type": "display_data"
    },
    {
     "data": {
      "application/vnd.jupyter.widget-view+json": {
       "model_id": "044ec54f0f294bc4b89efce1b598a60f",
       "version_major": 2,
       "version_minor": 0
      },
      "text/plain": [
       "Epoch 5/60:   0%|          | 0/96 [00:00<?, ?it/s]"
      ]
     },
     "metadata": {},
     "output_type": "display_data"
    },
    {
     "data": {
      "application/vnd.jupyter.widget-view+json": {
       "model_id": "1c649ba9bc0f4a7e9d4a661cce9b56fb",
       "version_major": 2,
       "version_minor": 0
      },
      "text/plain": [
       "Epoch 6/60:   0%|          | 0/96 [00:00<?, ?it/s]"
      ]
     },
     "metadata": {},
     "output_type": "display_data"
    },
    {
     "data": {
      "application/vnd.jupyter.widget-view+json": {
       "model_id": "fc6b52a27a63479b967ea77cfec9d90c",
       "version_major": 2,
       "version_minor": 0
      },
      "text/plain": [
       "Epoch 7/60:   0%|          | 0/96 [00:00<?, ?it/s]"
      ]
     },
     "metadata": {},
     "output_type": "display_data"
    },
    {
     "data": {
      "application/vnd.jupyter.widget-view+json": {
       "model_id": "036d40bd2b064a438a385671f736e1ba",
       "version_major": 2,
       "version_minor": 0
      },
      "text/plain": [
       "Epoch 8/60:   0%|          | 0/96 [00:00<?, ?it/s]"
      ]
     },
     "metadata": {},
     "output_type": "display_data"
    },
    {
     "data": {
      "application/vnd.jupyter.widget-view+json": {
       "model_id": "6324347f5b2e4772a2169abad923c5ea",
       "version_major": 2,
       "version_minor": 0
      },
      "text/plain": [
       "Epoch 9/60:   0%|          | 0/96 [00:00<?, ?it/s]"
      ]
     },
     "metadata": {},
     "output_type": "display_data"
    },
    {
     "data": {
      "application/vnd.jupyter.widget-view+json": {
       "model_id": "cd3b0fb522974abbb90f7895c5096674",
       "version_major": 2,
       "version_minor": 0
      },
      "text/plain": [
       "Epoch 10/60:   0%|          | 0/96 [00:00<?, ?it/s]"
      ]
     },
     "metadata": {},
     "output_type": "display_data"
    },
    {
     "data": {
      "application/vnd.jupyter.widget-view+json": {
       "model_id": "58623bf096cd497daa3d4bbc46e75a57",
       "version_major": 2,
       "version_minor": 0
      },
      "text/plain": [
       "Epoch 11/60:   0%|          | 0/96 [00:00<?, ?it/s]"
      ]
     },
     "metadata": {},
     "output_type": "display_data"
    },
    {
     "data": {
      "application/vnd.jupyter.widget-view+json": {
       "model_id": "ce7c6380567a4c5fa17c078cb1d45877",
       "version_major": 2,
       "version_minor": 0
      },
      "text/plain": [
       "Epoch 12/60:   0%|          | 0/96 [00:00<?, ?it/s]"
      ]
     },
     "metadata": {},
     "output_type": "display_data"
    },
    {
     "data": {
      "application/vnd.jupyter.widget-view+json": {
       "model_id": "9ba6311d49ed44e0b3ac3984d07383e5",
       "version_major": 2,
       "version_minor": 0
      },
      "text/plain": [
       "Epoch 13/60:   0%|          | 0/96 [00:00<?, ?it/s]"
      ]
     },
     "metadata": {},
     "output_type": "display_data"
    },
    {
     "data": {
      "application/vnd.jupyter.widget-view+json": {
       "model_id": "df002b480ab7480fa877978bd8e8a1e5",
       "version_major": 2,
       "version_minor": 0
      },
      "text/plain": [
       "Epoch 14/60:   0%|          | 0/96 [00:00<?, ?it/s]"
      ]
     },
     "metadata": {},
     "output_type": "display_data"
    },
    {
     "data": {
      "application/vnd.jupyter.widget-view+json": {
       "model_id": "be43a84cb1d44394beb8c33c991b347d",
       "version_major": 2,
       "version_minor": 0
      },
      "text/plain": [
       "Epoch 15/60:   0%|          | 0/96 [00:00<?, ?it/s]"
      ]
     },
     "metadata": {},
     "output_type": "display_data"
    },
    {
     "data": {
      "application/vnd.jupyter.widget-view+json": {
       "model_id": "6defff8aed664414afb9d8f5fa9f56b1",
       "version_major": 2,
       "version_minor": 0
      },
      "text/plain": [
       "Epoch 16/60:   0%|          | 0/96 [00:00<?, ?it/s]"
      ]
     },
     "metadata": {},
     "output_type": "display_data"
    },
    {
     "data": {
      "application/vnd.jupyter.widget-view+json": {
       "model_id": "4108f3ee297c467fbc939bcbbc8da599",
       "version_major": 2,
       "version_minor": 0
      },
      "text/plain": [
       "Epoch 17/60:   0%|          | 0/96 [00:00<?, ?it/s]"
      ]
     },
     "metadata": {},
     "output_type": "display_data"
    },
    {
     "data": {
      "application/vnd.jupyter.widget-view+json": {
       "model_id": "0bf374de09d74a14b273e315eabbaa1b",
       "version_major": 2,
       "version_minor": 0
      },
      "text/plain": [
       "Epoch 18/60:   0%|          | 0/96 [00:00<?, ?it/s]"
      ]
     },
     "metadata": {},
     "output_type": "display_data"
    },
    {
     "data": {
      "application/vnd.jupyter.widget-view+json": {
       "model_id": "316b22017df2422ca7836ec7d1da9eec",
       "version_major": 2,
       "version_minor": 0
      },
      "text/plain": [
       "Epoch 19/60:   0%|          | 0/96 [00:00<?, ?it/s]"
      ]
     },
     "metadata": {},
     "output_type": "display_data"
    },
    {
     "data": {
      "application/vnd.jupyter.widget-view+json": {
       "model_id": "2d3272dbf1aa417495e433343b6ad799",
       "version_major": 2,
       "version_minor": 0
      },
      "text/plain": [
       "Epoch 20/60:   0%|          | 0/96 [00:00<?, ?it/s]"
      ]
     },
     "metadata": {},
     "output_type": "display_data"
    },
    {
     "data": {
      "application/vnd.jupyter.widget-view+json": {
       "model_id": "07bd5e53743142c0b7818c130fa501aa",
       "version_major": 2,
       "version_minor": 0
      },
      "text/plain": [
       "Epoch 21/60:   0%|          | 0/96 [00:00<?, ?it/s]"
      ]
     },
     "metadata": {},
     "output_type": "display_data"
    },
    {
     "data": {
      "application/vnd.jupyter.widget-view+json": {
       "model_id": "012946cd43b749a685bc47ed5784787c",
       "version_major": 2,
       "version_minor": 0
      },
      "text/plain": [
       "Epoch 22/60:   0%|          | 0/96 [00:00<?, ?it/s]"
      ]
     },
     "metadata": {},
     "output_type": "display_data"
    },
    {
     "data": {
      "application/vnd.jupyter.widget-view+json": {
       "model_id": "befcec4d02db455c9786fdff6a0e655b",
       "version_major": 2,
       "version_minor": 0
      },
      "text/plain": [
       "Epoch 23/60:   0%|          | 0/96 [00:00<?, ?it/s]"
      ]
     },
     "metadata": {},
     "output_type": "display_data"
    },
    {
     "data": {
      "application/vnd.jupyter.widget-view+json": {
       "model_id": "b39cad3082a748b7abfde772980142f8",
       "version_major": 2,
       "version_minor": 0
      },
      "text/plain": [
       "Epoch 24/60:   0%|          | 0/96 [00:00<?, ?it/s]"
      ]
     },
     "metadata": {},
     "output_type": "display_data"
    },
    {
     "data": {
      "application/vnd.jupyter.widget-view+json": {
       "model_id": "57b27d95e19649b3893e9412490cdcdf",
       "version_major": 2,
       "version_minor": 0
      },
      "text/plain": [
       "Epoch 25/60:   0%|          | 0/96 [00:00<?, ?it/s]"
      ]
     },
     "metadata": {},
     "output_type": "display_data"
    },
    {
     "data": {
      "application/vnd.jupyter.widget-view+json": {
       "model_id": "f2e02be52ec548daaf039266054c32c9",
       "version_major": 2,
       "version_minor": 0
      },
      "text/plain": [
       "Epoch 26/60:   0%|          | 0/96 [00:00<?, ?it/s]"
      ]
     },
     "metadata": {},
     "output_type": "display_data"
    },
    {
     "data": {
      "application/vnd.jupyter.widget-view+json": {
       "model_id": "4175f1ccbd6e4c6da2ac2b6c439b5a19",
       "version_major": 2,
       "version_minor": 0
      },
      "text/plain": [
       "Epoch 27/60:   0%|          | 0/96 [00:00<?, ?it/s]"
      ]
     },
     "metadata": {},
     "output_type": "display_data"
    },
    {
     "data": {
      "application/vnd.jupyter.widget-view+json": {
       "model_id": "709983612dd84ba1841354fbdea26006",
       "version_major": 2,
       "version_minor": 0
      },
      "text/plain": [
       "Epoch 28/60:   0%|          | 0/96 [00:00<?, ?it/s]"
      ]
     },
     "metadata": {},
     "output_type": "display_data"
    },
    {
     "data": {
      "application/vnd.jupyter.widget-view+json": {
       "model_id": "d9a784c845034c00bf6c283733ac4f3c",
       "version_major": 2,
       "version_minor": 0
      },
      "text/plain": [
       "Epoch 29/60:   0%|          | 0/96 [00:00<?, ?it/s]"
      ]
     },
     "metadata": {},
     "output_type": "display_data"
    },
    {
     "data": {
      "application/vnd.jupyter.widget-view+json": {
       "model_id": "ac550a09c0424f87a8751ced34b6f507",
       "version_major": 2,
       "version_minor": 0
      },
      "text/plain": [
       "Epoch 30/60:   0%|          | 0/96 [00:00<?, ?it/s]"
      ]
     },
     "metadata": {},
     "output_type": "display_data"
    },
    {
     "data": {
      "application/vnd.jupyter.widget-view+json": {
       "model_id": "8832892fffff4d94896349e3293c5656",
       "version_major": 2,
       "version_minor": 0
      },
      "text/plain": [
       "Epoch 31/60:   0%|          | 0/96 [00:00<?, ?it/s]"
      ]
     },
     "metadata": {},
     "output_type": "display_data"
    },
    {
     "data": {
      "application/vnd.jupyter.widget-view+json": {
       "model_id": "4608560354664e16bb3176309f44403a",
       "version_major": 2,
       "version_minor": 0
      },
      "text/plain": [
       "Epoch 32/60:   0%|          | 0/96 [00:00<?, ?it/s]"
      ]
     },
     "metadata": {},
     "output_type": "display_data"
    },
    {
     "data": {
      "application/vnd.jupyter.widget-view+json": {
       "model_id": "5a55a0af66b24dc4af5141ea3ab92999",
       "version_major": 2,
       "version_minor": 0
      },
      "text/plain": [
       "Epoch 33/60:   0%|          | 0/96 [00:00<?, ?it/s]"
      ]
     },
     "metadata": {},
     "output_type": "display_data"
    },
    {
     "data": {
      "application/vnd.jupyter.widget-view+json": {
       "model_id": "ef268a00a169435e8322f13a67e53ae2",
       "version_major": 2,
       "version_minor": 0
      },
      "text/plain": [
       "Epoch 34/60:   0%|          | 0/96 [00:00<?, ?it/s]"
      ]
     },
     "metadata": {},
     "output_type": "display_data"
    },
    {
     "data": {
      "application/vnd.jupyter.widget-view+json": {
       "model_id": "1d38255366dd4bfba25b28ce08002a79",
       "version_major": 2,
       "version_minor": 0
      },
      "text/plain": [
       "Epoch 35/60:   0%|          | 0/96 [00:00<?, ?it/s]"
      ]
     },
     "metadata": {},
     "output_type": "display_data"
    },
    {
     "data": {
      "application/vnd.jupyter.widget-view+json": {
       "model_id": "f7066b7f6fe94f37b57f5c91f96ccbf8",
       "version_major": 2,
       "version_minor": 0
      },
      "text/plain": [
       "Epoch 36/60:   0%|          | 0/96 [00:00<?, ?it/s]"
      ]
     },
     "metadata": {},
     "output_type": "display_data"
    },
    {
     "data": {
      "application/vnd.jupyter.widget-view+json": {
       "model_id": "80e58ea627b64d6898c2df85750d6985",
       "version_major": 2,
       "version_minor": 0
      },
      "text/plain": [
       "Epoch 37/60:   0%|          | 0/96 [00:00<?, ?it/s]"
      ]
     },
     "metadata": {},
     "output_type": "display_data"
    },
    {
     "data": {
      "application/vnd.jupyter.widget-view+json": {
       "model_id": "109e19274a3a443686453a4295da2fc0",
       "version_major": 2,
       "version_minor": 0
      },
      "text/plain": [
       "Epoch 38/60:   0%|          | 0/96 [00:00<?, ?it/s]"
      ]
     },
     "metadata": {},
     "output_type": "display_data"
    },
    {
     "data": {
      "application/vnd.jupyter.widget-view+json": {
       "model_id": "e4cdf03658374621a07f19780cbb1add",
       "version_major": 2,
       "version_minor": 0
      },
      "text/plain": [
       "Epoch 39/60:   0%|          | 0/96 [00:00<?, ?it/s]"
      ]
     },
     "metadata": {},
     "output_type": "display_data"
    },
    {
     "data": {
      "application/vnd.jupyter.widget-view+json": {
       "model_id": "8c7b5174bb18446caebe96fc6deac344",
       "version_major": 2,
       "version_minor": 0
      },
      "text/plain": [
       "Epoch 40/60:   0%|          | 0/96 [00:00<?, ?it/s]"
      ]
     },
     "metadata": {},
     "output_type": "display_data"
    },
    {
     "data": {
      "application/vnd.jupyter.widget-view+json": {
       "model_id": "686187bca0d845dba9578aa38f4d25d7",
       "version_major": 2,
       "version_minor": 0
      },
      "text/plain": [
       "Epoch 41/60:   0%|          | 0/96 [00:00<?, ?it/s]"
      ]
     },
     "metadata": {},
     "output_type": "display_data"
    },
    {
     "data": {
      "application/vnd.jupyter.widget-view+json": {
       "model_id": "4db4e507920f41fcb437395cbc97ff16",
       "version_major": 2,
       "version_minor": 0
      },
      "text/plain": [
       "Epoch 42/60:   0%|          | 0/96 [00:00<?, ?it/s]"
      ]
     },
     "metadata": {},
     "output_type": "display_data"
    },
    {
     "data": {
      "application/vnd.jupyter.widget-view+json": {
       "model_id": "12e68cbaf4d24402acd745f545368406",
       "version_major": 2,
       "version_minor": 0
      },
      "text/plain": [
       "Epoch 43/60:   0%|          | 0/96 [00:00<?, ?it/s]"
      ]
     },
     "metadata": {},
     "output_type": "display_data"
    },
    {
     "data": {
      "application/vnd.jupyter.widget-view+json": {
       "model_id": "dfa64222d1184cf8b6f276592b9e9ed2",
       "version_major": 2,
       "version_minor": 0
      },
      "text/plain": [
       "Epoch 44/60:   0%|          | 0/96 [00:00<?, ?it/s]"
      ]
     },
     "metadata": {},
     "output_type": "display_data"
    },
    {
     "data": {
      "application/vnd.jupyter.widget-view+json": {
       "model_id": "6b15023286744ffc97980a51eaa45538",
       "version_major": 2,
       "version_minor": 0
      },
      "text/plain": [
       "Epoch 45/60:   0%|          | 0/96 [00:00<?, ?it/s]"
      ]
     },
     "metadata": {},
     "output_type": "display_data"
    },
    {
     "data": {
      "application/vnd.jupyter.widget-view+json": {
       "model_id": "3966723ff7df4e10969cc3a489bfb9f3",
       "version_major": 2,
       "version_minor": 0
      },
      "text/plain": [
       "Epoch 46/60:   0%|          | 0/96 [00:00<?, ?it/s]"
      ]
     },
     "metadata": {},
     "output_type": "display_data"
    },
    {
     "data": {
      "application/vnd.jupyter.widget-view+json": {
       "model_id": "e6f70c94ebc54c3ca1d897d6c7e2d55f",
       "version_major": 2,
       "version_minor": 0
      },
      "text/plain": [
       "Epoch 47/60:   0%|          | 0/96 [00:00<?, ?it/s]"
      ]
     },
     "metadata": {},
     "output_type": "display_data"
    },
    {
     "data": {
      "application/vnd.jupyter.widget-view+json": {
       "model_id": "edcd6f8d7d0446abbf463905ee58d6ad",
       "version_major": 2,
       "version_minor": 0
      },
      "text/plain": [
       "Epoch 48/60:   0%|          | 0/96 [00:00<?, ?it/s]"
      ]
     },
     "metadata": {},
     "output_type": "display_data"
    },
    {
     "data": {
      "application/vnd.jupyter.widget-view+json": {
       "model_id": "d66f9df5841c4b4f965b30c093553f82",
       "version_major": 2,
       "version_minor": 0
      },
      "text/plain": [
       "Epoch 49/60:   0%|          | 0/96 [00:00<?, ?it/s]"
      ]
     },
     "metadata": {},
     "output_type": "display_data"
    },
    {
     "data": {
      "application/vnd.jupyter.widget-view+json": {
       "model_id": "1152f18377144ca08919ad9f6cd1870e",
       "version_major": 2,
       "version_minor": 0
      },
      "text/plain": [
       "Epoch 50/60:   0%|          | 0/96 [00:00<?, ?it/s]"
      ]
     },
     "metadata": {},
     "output_type": "display_data"
    },
    {
     "data": {
      "application/vnd.jupyter.widget-view+json": {
       "model_id": "306d9b2526324be19e40bc29afbad548",
       "version_major": 2,
       "version_minor": 0
      },
      "text/plain": [
       "Epoch 51/60:   0%|          | 0/96 [00:00<?, ?it/s]"
      ]
     },
     "metadata": {},
     "output_type": "display_data"
    },
    {
     "data": {
      "application/vnd.jupyter.widget-view+json": {
       "model_id": "26a0c33dd74d430f9a62bcb88d5235af",
       "version_major": 2,
       "version_minor": 0
      },
      "text/plain": [
       "Epoch 52/60:   0%|          | 0/96 [00:00<?, ?it/s]"
      ]
     },
     "metadata": {},
     "output_type": "display_data"
    },
    {
     "data": {
      "application/vnd.jupyter.widget-view+json": {
       "model_id": "0a521ed537c541939f51521b4457b86b",
       "version_major": 2,
       "version_minor": 0
      },
      "text/plain": [
       "Epoch 53/60:   0%|          | 0/96 [00:00<?, ?it/s]"
      ]
     },
     "metadata": {},
     "output_type": "display_data"
    },
    {
     "data": {
      "application/vnd.jupyter.widget-view+json": {
       "model_id": "91253f188a424737bbbe3bf6b91d6d18",
       "version_major": 2,
       "version_minor": 0
      },
      "text/plain": [
       "Epoch 54/60:   0%|          | 0/96 [00:00<?, ?it/s]"
      ]
     },
     "metadata": {},
     "output_type": "display_data"
    },
    {
     "data": {
      "application/vnd.jupyter.widget-view+json": {
       "model_id": "0c12857d7a3e4936a5c61757f0eba232",
       "version_major": 2,
       "version_minor": 0
      },
      "text/plain": [
       "Epoch 55/60:   0%|          | 0/96 [00:00<?, ?it/s]"
      ]
     },
     "metadata": {},
     "output_type": "display_data"
    },
    {
     "data": {
      "application/vnd.jupyter.widget-view+json": {
       "model_id": "5940cbb8f3a643cfb9dd2e8bc295db14",
       "version_major": 2,
       "version_minor": 0
      },
      "text/plain": [
       "Epoch 56/60:   0%|          | 0/96 [00:00<?, ?it/s]"
      ]
     },
     "metadata": {},
     "output_type": "display_data"
    },
    {
     "data": {
      "application/vnd.jupyter.widget-view+json": {
       "model_id": "e8547611f67247e4b0c6fa875266b2f9",
       "version_major": 2,
       "version_minor": 0
      },
      "text/plain": [
       "Epoch 57/60:   0%|          | 0/96 [00:00<?, ?it/s]"
      ]
     },
     "metadata": {},
     "output_type": "display_data"
    },
    {
     "data": {
      "application/vnd.jupyter.widget-view+json": {
       "model_id": "2e6368319edc4ca5a329871d7e78ec4d",
       "version_major": 2,
       "version_minor": 0
      },
      "text/plain": [
       "Epoch 58/60:   0%|          | 0/96 [00:00<?, ?it/s]"
      ]
     },
     "metadata": {},
     "output_type": "display_data"
    },
    {
     "data": {
      "application/vnd.jupyter.widget-view+json": {
       "model_id": "2dd5570c3e1b43a3abd5e1380c1eaa19",
       "version_major": 2,
       "version_minor": 0
      },
      "text/plain": [
       "Epoch 59/60:   0%|          | 0/96 [00:00<?, ?it/s]"
      ]
     },
     "metadata": {},
     "output_type": "display_data"
    },
    {
     "data": {
      "application/vnd.jupyter.widget-view+json": {
       "model_id": "25b2232959b74a839d7738ddf2c85d7b",
       "version_major": 2,
       "version_minor": 0
      },
      "text/plain": [
       "Epoch 60/60:   0%|          | 0/96 [00:00<?, ?it/s]"
      ]
     },
     "metadata": {},
     "output_type": "display_data"
    }
   ],
   "source": [
    "train_results = train(model, train_loader, val_loader, cfg=cfg_train,\n",
    "                      optimizer=optimizer, scheduler=lr_scheduler, scaler=scaler,\n",
    "                      writer=summary_writer)"
   ]
  },
  {
   "cell_type": "markdown",
   "id": "09b6866d",
   "metadata": {},
   "source": [
    "### save all parameters used in the model and training"
   ]
  },
  {
   "cell_type": "code",
   "execution_count": 9,
   "id": "f7b195b6",
   "metadata": {},
   "outputs": [],
   "source": [
    "# save all the hyperparameters into a json file\n",
    "rl_scheduler_state_dict = lr_scheduler.state_dict() if lr_scheduler.__class__.__name__ != \"WarmupThenCosine\" else {\n",
    "            k:v for k, v in lr_scheduler.state_dict().items() if k != \"cosine\"}\n",
    "all_hparams_cfg = {\n",
    "    \"tokenizer\" : {\n",
    "        \"type\": \"bytelevel_bpe\",\n",
    "        \"n_merges\": N_MERGES,\n",
    "        \"min_frequency\": MIN_FREQ,\n",
    "        \"special_tokens\": SPECIAL_TOKENS,\n",
    "        \"path\": os.path.join(tok_dir, tok_name),\n",
    "    },\n",
    "    \"data\": {\n",
    "        \"batch_size\": BATCH_SIZE,\n",
    "        \"block_size\": BLOCK_SIZE,\n",
    "    },\n",
    "    \"model\": {\"cfg\": vars(cfg_model).copy(), \"model_size\": model_size},\n",
    "    \"optimizer\": {\n",
    "        \"type\": optimizer.__class__.__name__,\n",
    "        \"lr\": LR,\n",
    "        \"weight_decay\": WEIGHT_DECAY,\n",
    "        \"defaults\": optimizer.defaults,\n",
    "    },\n",
    "    \"lr_scheduler\": {\n",
    "        \"type\": lr_scheduler.__class__.__name__,\n",
    "        \"eta_min\": ETA_MIN,\n",
    "        \"state_dict\": rl_scheduler_state_dict,\n",
    "    },\n",
    "    \"scaler\": {\n",
    "        \"type\": scaler.__class__.__name__,\n",
    "        \"enabled\": scaler.is_enabled(),\n",
    "        \"state_dict\": scaler.state_dict(),\n",
    "    },\n",
    "    \"training\": {\"cfg\": vars(cfg_train).copy()},\n",
    "    \"results\": train_results,\n",
    "}\n",
    "\n",
    "# save it to checkpoint dir, same prefix as checkpoint files\n",
    "with open(os.path.join(CHECKPOINT_DIR, all_hparams_cfg_filename), \"w\") as f:\n",
    "    json.dump(all_hparams_cfg, f, indent=4)\n",
    "\n",
    "# write it to tensorboard\n",
    "summary_writer.add_text(\"config/json\", \"```json\\n\" + json.dumps(all_hparams_cfg, indent=2, sort_keys=True) + \"\\n```\", global_step=0)\n",
    "summary_writer.flush()\n",
    "summary_writer.close()"
   ]
  },
  {
   "cell_type": "markdown",
   "id": "0a1da283",
   "metadata": {},
   "source": [
    "## results and evaluation"
   ]
  },
  {
   "cell_type": "markdown",
   "id": "ec41d3c5",
   "metadata": {},
   "source": [
    "### load a saved model (can skip if using a freshly trained model)"
   ]
  },
  {
   "cell_type": "code",
   "execution_count": 10,
   "id": "36d3b732",
   "metadata": {},
   "outputs": [
    {
     "name": "stdout",
     "output_type": "stream",
     "text": [
      "loaded full config from:  ../checkpoints/neural_bigram/nbigram_bpe800_hparams.json\n",
      "loading model from checkpoint:  ../checkpoints/neural_bigram/nbigram_bpe800_best.pt\n",
      "tokenizer vocab size:  1060\n"
     ]
    }
   ],
   "source": [
    "all_hparams_cfg_path = os.path.join(CHECKPOINT_DIR, all_hparams_cfg_filename)\n",
    "# all_hparams_cfg_path = os.path.join(CHECKPOINT_DIR, \"nbigram_bpe200_hparams.json\")\n",
    "with open(all_hparams_cfg_path, \"r\") as f:\n",
    "    all_hparams_cfg = json.load(f)\n",
    "print(\"loaded full config from: \", all_hparams_cfg_path)\n",
    "# print(json.dumps(full_cfg, indent=4))\n",
    "\n",
    "ckpt_name = all_hparams_cfg[\"training\"][\"cfg\"].get(\"ckpt_best_path\", None)\n",
    "print(\"loading model from checkpoint: \", ckpt_name)\n",
    "cfg_train = ConfigTrain(**all_hparams_cfg[\"training\"][\"cfg\"])\n",
    "cfg_train.device = \"cuda\" if torch.cuda.is_available() else \"cpu\"\n",
    "\n",
    "batch_size = all_hparams_cfg[\"data\"][\"batch_size\"]\n",
    "block_size = all_hparams_cfg[\"data\"][\"block_size\"]\n",
    "n_merges = all_hparams_cfg[\"tokenizer\"][\"n_merges\"]\n",
    "min_freq = all_hparams_cfg[\"tokenizer\"][\"min_frequency\"]\n",
    "model_size = all_hparams_cfg[\"model\"].get(\"model_size\", None)\n",
    "train_results = all_hparams_cfg.get(\"results\", {})\n",
    "ckpt = load_checkpoint(ckpt_name, map_location=cfg_train.device, weights_only=False)\n",
    "\n",
    "model = NeuralBigram(config=ConfigNeuralBigram(**all_hparams_cfg[\"model\"][\"cfg\"]))\n",
    "model.load_state_dict(ckpt['model'])\n",
    "model.to(cfg_train.device)\n",
    "\n",
    "bpe_tokenizer = load_tokenizer(os.path.join(all_hparams_cfg[\"tokenizer\"][\"path\"]))\n",
    "encode = partial(bpe_tokenizer.encode, add_special_tokens=False)\n",
    "decode = bpe_tokenizer.decode\n",
    "vocab_size = bpe_tokenizer.get_vocab_size()\n",
    "print(\"tokenizer vocab size: \", vocab_size)\n",
    "train_loader = init_dataloader(encode(train_text).ids, block_size=block_size, batch_size=batch_size, train=True, shuffle=True)\n",
    "val_loader = init_dataloader(encode(val_text).ids, block_size=block_size, batch_size=batch_size, train=False, shuffle=True)\n",
    "test_loader = init_dataloader(encode(test_text).ids, block_size=block_size, batch_size=batch_size, train=False, shuffle=False)\n"
   ]
  },
  {
   "cell_type": "markdown",
   "id": "12864931",
   "metadata": {},
   "source": [
    "### plot training curves and test on test set"
   ]
  },
  {
   "cell_type": "code",
   "execution_count": 11,
   "id": "5eee7297",
   "metadata": {},
   "outputs": [
    {
     "data": {
      "text/html": [
       "<div>\n",
       "<style scoped>\n",
       "    .dataframe tbody tr th:only-of-type {\n",
       "        vertical-align: middle;\n",
       "    }\n",
       "\n",
       "    .dataframe tbody tr th {\n",
       "        vertical-align: top;\n",
       "    }\n",
       "\n",
       "    .dataframe thead th {\n",
       "        text-align: right;\n",
       "    }\n",
       "</style>\n",
       "<table border=\"1\" class=\"dataframe\">\n",
       "  <thead>\n",
       "    <tr style=\"text-align: right;\">\n",
       "      <th></th>\n",
       "      <th>train_loss</th>\n",
       "      <th>train_ppl</th>\n",
       "      <th>val_ppl</th>\n",
       "      <th>val_loss</th>\n",
       "      <th>epoch</th>\n",
       "    </tr>\n",
       "  </thead>\n",
       "  <tbody>\n",
       "    <tr>\n",
       "      <th>0</th>\n",
       "      <td>7.409964</td>\n",
       "      <td>1652.367798</td>\n",
       "      <td>1460.654907</td>\n",
       "      <td>7.286640</td>\n",
       "      <td>1</td>\n",
       "    </tr>\n",
       "    <tr>\n",
       "      <th>1</th>\n",
       "      <td>7.069245</td>\n",
       "      <td>1175.260742</td>\n",
       "      <td>994.692261</td>\n",
       "      <td>6.902433</td>\n",
       "      <td>3</td>\n",
       "    </tr>\n",
       "    <tr>\n",
       "      <th>2</th>\n",
       "      <td>6.518330</td>\n",
       "      <td>677.446472</td>\n",
       "      <td>567.858459</td>\n",
       "      <td>6.341872</td>\n",
       "      <td>5</td>\n",
       "    </tr>\n",
       "    <tr>\n",
       "      <th>3</th>\n",
       "      <td>5.972209</td>\n",
       "      <td>392.371460</td>\n",
       "      <td>339.076172</td>\n",
       "      <td>5.826225</td>\n",
       "      <td>7</td>\n",
       "    </tr>\n",
       "    <tr>\n",
       "      <th>4</th>\n",
       "      <td>5.535416</td>\n",
       "      <td>253.513138</td>\n",
       "      <td>221.622864</td>\n",
       "      <td>5.400977</td>\n",
       "      <td>9</td>\n",
       "    </tr>\n",
       "  </tbody>\n",
       "</table>\n",
       "</div>"
      ],
      "text/plain": [
       "   train_loss    train_ppl      val_ppl  val_loss  epoch\n",
       "0    7.409964  1652.367798  1460.654907  7.286640      1\n",
       "1    7.069245  1175.260742   994.692261  6.902433      3\n",
       "2    6.518330   677.446472   567.858459  6.341872      5\n",
       "3    5.972209   392.371460   339.076172  5.826225      7\n",
       "4    5.535416   253.513138   221.622864  5.400977      9"
      ]
     },
     "metadata": {},
     "output_type": "display_data"
    },
    {
     "data": {
      "text/html": [
       "<div>\n",
       "<style scoped>\n",
       "    .dataframe tbody tr th:only-of-type {\n",
       "        vertical-align: middle;\n",
       "    }\n",
       "\n",
       "    .dataframe tbody tr th {\n",
       "        vertical-align: top;\n",
       "    }\n",
       "\n",
       "    .dataframe thead th {\n",
       "        text-align: right;\n",
       "    }\n",
       "</style>\n",
       "<table border=\"1\" class=\"dataframe\">\n",
       "  <thead>\n",
       "    <tr style=\"text-align: right;\">\n",
       "      <th></th>\n",
       "      <th>train_loss</th>\n",
       "      <th>train_ppl</th>\n",
       "      <th>val_ppl</th>\n",
       "      <th>val_loss</th>\n",
       "      <th>epoch</th>\n",
       "    </tr>\n",
       "  </thead>\n",
       "  <tbody>\n",
       "    <tr>\n",
       "      <th>25</th>\n",
       "      <td>4.007804</td>\n",
       "      <td>55.025921</td>\n",
       "      <td>47.234543</td>\n",
       "      <td>3.855125</td>\n",
       "      <td>51</td>\n",
       "    </tr>\n",
       "    <tr>\n",
       "      <th>26</th>\n",
       "      <td>4.008027</td>\n",
       "      <td>55.038177</td>\n",
       "      <td>47.179199</td>\n",
       "      <td>3.853953</td>\n",
       "      <td>53</td>\n",
       "    </tr>\n",
       "    <tr>\n",
       "      <th>27</th>\n",
       "      <td>4.006491</td>\n",
       "      <td>54.953709</td>\n",
       "      <td>47.150661</td>\n",
       "      <td>3.853348</td>\n",
       "      <td>55</td>\n",
       "    </tr>\n",
       "    <tr>\n",
       "      <th>28</th>\n",
       "      <td>4.004327</td>\n",
       "      <td>54.834900</td>\n",
       "      <td>47.139622</td>\n",
       "      <td>3.853114</td>\n",
       "      <td>57</td>\n",
       "    </tr>\n",
       "    <tr>\n",
       "      <th>29</th>\n",
       "      <td>4.005458</td>\n",
       "      <td>54.896980</td>\n",
       "      <td>47.137981</td>\n",
       "      <td>3.853079</td>\n",
       "      <td>59</td>\n",
       "    </tr>\n",
       "  </tbody>\n",
       "</table>\n",
       "</div>"
      ],
      "text/plain": [
       "    train_loss  train_ppl    val_ppl  val_loss  epoch\n",
       "25    4.007804  55.025921  47.234543  3.855125     51\n",
       "26    4.008027  55.038177  47.179199  3.853953     53\n",
       "27    4.006491  54.953709  47.150661  3.853348     55\n",
       "28    4.004327  54.834900  47.139622  3.853114     57\n",
       "29    4.005458  54.896980  47.137981  3.853079     59"
      ]
     },
     "metadata": {},
     "output_type": "display_data"
    },
    {
     "data": {
      "image/png": "[encoded data removed]",
      "text/plain": [
       "<Figure size 1200x500 with 2 Axes>"
      ]
     },
     "metadata": {},
     "output_type": "display_data"
    }
   ],
   "source": [
    "# make train_loss, train_ppl, val_ppl, val_loss and epochs into a DataFrame\n",
    "history = train_results[\"history\"]\n",
    "history_df = pd.DataFrame(history)\n",
    "\n",
    "display(history_df.head())\n",
    "display(history_df.tail())\n",
    "\n",
    "plt.figure(figsize=(12, 5))\n",
    "plt.suptitle(f\"nBigram Training Curves\\nModel size: {model_size:_} parameters\", fontsize=16)\n",
    "# loss \n",
    "plt.subplot(1, 2, 1)\n",
    "plt.plot(history_df['epoch'], history_df[\"train_loss\"], label=\"Train Loss\")\n",
    "plt.plot(history_df['epoch'], history_df[\"val_loss\"], label=\"Val Loss\")\n",
    "plt.xlabel(\"Epochs\")\n",
    "plt.ylabel(\"Loss\")\n",
    "# plt.xticks(history_df['epochs'][::int(len(history_df['epochs'])//9)+1])  \n",
    "plt.title(\"Loss\")\n",
    "plt.legend()\n",
    "plt.grid()\n",
    "\n",
    "# perplexity\n",
    "plt.subplot(1, 2, 2)\n",
    "plt.plot(history_df['epoch'], history_df[\"train_ppl\"], label=\"Train PPL\")\n",
    "plt.plot(history_df['epoch'], history_df[\"val_ppl\"], label=\"Val PPL\")\n",
    "plt.xlabel(\"Epochs\")\n",
    "plt.ylabel(\"Perplexity\")\n",
    "# plt.xticks(history_df['epochs'][::int(len(history_df['epochs'])//9)+1])  \n",
    "plt.title(\"Perplexity\")\n",
    "plt.legend()\n",
    "plt.grid()\n",
    "plt.tight_layout()\n",
    "\n",
    "# save the training plot\n",
    "plt.savefig(os.path.join(RESULTS_DIR, f\"nBigram_training_plot.png\")) \n",
    "\n",
    "plt.show()"
   ]
  },
  {
   "cell_type": "code",
   "execution_count": 12,
   "id": "f6d7ec1e",
   "metadata": {},
   "outputs": [
    {
     "data": {
      "text/html": [
       "<div>\n",
       "<style scoped>\n",
       "    .dataframe tbody tr th:only-of-type {\n",
       "        vertical-align: middle;\n",
       "    }\n",
       "\n",
       "    .dataframe tbody tr th {\n",
       "        vertical-align: top;\n",
       "    }\n",
       "\n",
       "    .dataframe thead th {\n",
       "        text-align: right;\n",
       "    }\n",
       "</style>\n",
       "<table border=\"1\" class=\"dataframe\">\n",
       "  <thead>\n",
       "    <tr style=\"text-align: right;\">\n",
       "      <th></th>\n",
       "      <th>split</th>\n",
       "      <th>loss(NLL)</th>\n",
       "      <th>perplexity</th>\n",
       "    </tr>\n",
       "  </thead>\n",
       "  <tbody>\n",
       "    <tr>\n",
       "      <th>0</th>\n",
       "      <td>train</td>\n",
       "      <td>4.005458</td>\n",
       "      <td>54.896980</td>\n",
       "    </tr>\n",
       "    <tr>\n",
       "      <th>1</th>\n",
       "      <td>val</td>\n",
       "      <td>3.853079</td>\n",
       "      <td>47.137981</td>\n",
       "    </tr>\n",
       "    <tr>\n",
       "      <th>2</th>\n",
       "      <td>test</td>\n",
       "      <td>3.794816</td>\n",
       "      <td>44.470068</td>\n",
       "    </tr>\n",
       "  </tbody>\n",
       "</table>\n",
       "</div>"
      ],
      "text/plain": [
       "   split  loss(NLL)  perplexity\n",
       "0  train   4.005458   54.896980\n",
       "1    val   3.853079   47.137981\n",
       "2   test   3.794816   44.470068"
      ]
     },
     "metadata": {},
     "output_type": "display_data"
    }
   ],
   "source": [
    "# final evaluation on the test set\n",
    "test_nll = evaluate(model, test_loader, cfg_train.device)\n",
    "test_ppl = np.exp(test_nll)\n",
    "\n",
    "val_ppl = train_results[\"best_val_ppl\"]\n",
    "train_ppl = train_results[\"best_train_ppl\"]\n",
    "\n",
    "val_nll = torch.log(torch.tensor(val_ppl)).item()\n",
    "train_nll = torch.log(torch.tensor(train_ppl)).item()\n",
    "\n",
    "# display in a DataFrame\n",
    "test_results_df = pd.DataFrame({\n",
    "    \"split\": [\"train\", \"val\", \"test\"],\n",
    "    \"loss(NLL)\": [train_nll, val_nll, test_nll],\n",
    "    \"perplexity\": [train_ppl, val_ppl, test_ppl],\n",
    "})\n",
    "display(test_results_df)"
   ]
  },
  {
   "cell_type": "code",
   "execution_count": 13,
   "id": "6b03dab9",
   "metadata": {},
   "outputs": [
    {
     "name": "stdout",
     "output_type": "stream",
     "text": [
      "test results saved to ../results/neural_bigram/test_performance_results.csv\n"
     ]
    }
   ],
   "source": [
    "# save test results\n",
    "test_results_filename = os.path.join(RESULTS_DIR, \"test_performance_results.csv\")\n",
    "test_results_df.to_csv(test_results_filename, index=False)\n",
    "print(f\"test results saved to {test_results_filename}\")"
   ]
  },
  {
   "cell_type": "markdown",
   "id": "a0f89d60",
   "metadata": {},
   "source": [
    "### generate text from the trained model"
   ]
  },
  {
   "cell_type": "code",
   "execution_count": 14,
   "id": "b3d51c4e",
   "metadata": {},
   "outputs": [
    {
     "name": "stdout",
     "output_type": "stream",
     "text": [
      "used tokenizer: bytelevel_bpe, merges: 800, min_freq: 2\n",
      ">>>> <context>\n",
      " -------------------- \n",
      "<<<< <generated_text>\n",
      "\n",
      " --------------------------------------------------------------------------------\n",
      ">>>>  shall the lovers\n",
      "--------------------\n",
      "<<<<  , a ta!\n",
      "Ins\n",
      "\n",
      "MARMIDoke of that I should grown,\n",
      "Which of the lause actise within.\n",
      "His is not a dull thosed,\n",
      "\n",
      "A\n",
      "\n",
      "Ono,\n",
      "\n",
      "\n",
      "And heativen trerit\n",
      "Go,\n",
      "And,\n",
      "\n",
      "What coforse\n",
      "\n",
      "E\n",
      "\n",
      "\n",
      "DOMEO\n",
      "H\n",
      "\n",
      " --------------------------------------------------------------------------------\n",
      ">>>> t dragon\n",
      "--------------------\n",
      "<<<<  .\n",
      "\n",
      "Enter Py.\n",
      "LDOMITIUS ENOBARBUS\n",
      "\n",
      "\n",
      "SHad to dible.\n",
      "\n",
      "The sleep, and a prainent,\n",
      "First So much office,\n",
      "Twd, my bubour vow the a sony.\n",
      "\n",
      "Myrawards and that I'll warrad,\n",
      "\n",
      "Theretue it in our definturnishment, with\n",
      "\n",
      " --------------------------------------------------------------------------------\n",
      ">>>>  should look their sham\n",
      "--------------------\n",
      "<<<<  orrow,\n",
      "\n",
      "\n",
      "First morrow I have no more.\n",
      "\n",
      "ICO, I knowled eque: but withinned on you.\n",
      "\n",
      "\n",
      "\n",
      "\n",
      "\n",
      "\n",
      "PRUDE\n",
      "Is.\n",
      "\n",
      "\n",
      "From Tition of our earther,\n",
      "But of\n",
      "\n",
      "\n",
      "\n",
      "\n",
      "Will me,\n",
      "Wererad I will not strange:\n",
      "Ampet thee\n",
      "As to\n",
      "\n",
      " --------------------------------------------------------------------------------\n",
      ">>>> ing on Nept\n",
      "--------------------\n",
      "<<<<   is the fullsayer\n",
      "Soice\n",
      "No be the long?\n",
      "Your of a tak,\n",
      "Ink, be\n",
      "\n",
      "Nows of her,\n",
      "Inon, a layer.\n",
      "I will.\n",
      "\n",
      "\n",
      "GUS\n",
      "Shere,\n",
      "Se, be gone shedschere is the murtwek:\n",
      "\n",
      "\n",
      "As and the crown the set my con\n",
      "\n",
      " --------------------------------------------------------------------------------\n",
      ">>>> , lead them up\n",
      "--------------------\n",
      "<<<<   and, my heart to my lord; I seeing to wood and to my lord,\n",
      "\n",
      "\n",
      "With all the seener-night.\n",
      "\n",
      "Therest, and, to do not airts.\n",
      "\n",
      "\n",
      "SI'll truthouse thee.\n",
      "\n",
      "What says, sir, and batilement:\n",
      "\n",
      "My,\n",
      "OTHELLO\n",
      "Tillows and I had rest: I have\n"
     ]
    }
   ],
   "source": [
    "# get a batch from validation set and generate text\n",
    "batch_gen = 5\n",
    "max_new_tokens = 100\n",
    "\n",
    "unified_context = \" \".join(test_text.split()[:3])\n",
    "unified_context_ids = encode(unified_context, add_special_tokens=False).ids\n",
    "context_len = len(unified_context_ids)\n",
    "\n",
    "context_ids_batch, _ = next(iter(test_loader))\n",
    "# replace first row with unified_context_ids\n",
    "context_ids_batch[0, :context_len] = torch.tensor(unified_context_ids[:block_size], dtype=torch.long)\n",
    "\n",
    "context_ids_batch = context_ids_batch.to(cfg_train.device, non_blocking=True)\n",
    "# generate text from the model\n",
    "generated_text = model.generate(context_ids_batch[:batch_gen, :context_len], max_new_tokens=max_new_tokens, temperature=0.9, top_k=20)\n",
    "\n",
    "print(f\"used tokenizer: bytelevel_bpe, merges: {n_merges}, min_freq: {min_freq}\")\n",
    "print(f\">>>> <context>\\n\", \"-\" *20, \"\\n<<<< <generated_text>\")\n",
    "for i, text in enumerate(generated_text):\n",
    "    print(\"\\n\", \"-\" * 80)\n",
    "    print(\">>>>\", decode(text[:context_len].tolist()))\n",
    "    print(\"-\" * 20)\n",
    "    print(\"<<<< \", decode(text[context_len:].tolist()))\n",
    "    if i + 1 >= batch_gen:\n",
    "        break"
   ]
  },
  {
   "cell_type": "code",
   "execution_count": 15,
   "id": "89a99408",
   "metadata": {},
   "outputs": [
    {
     "name": "stdout",
     "output_type": "stream",
     "text": [
      "generation results saved to ../results/neural_bigram/text_generation_results.txt\n"
     ]
    }
   ],
   "source": [
    "# save generation results to a text file\n",
    "gen_results_filename = os.path.join(RESULTS_DIR, \"text_generation_results.txt\")\n",
    "with open(gen_results_filename, \"w\", encoding=\"utf-8\") as f:\n",
    "    f.write(f\"used tokenizer: bytelevel_bpe, merges: {n_merges}, min_freq: {min_freq}\\n\")\n",
    "    f.write(f\">>>> <context>\\n\")\n",
    "    f.write(\"-\" * 20 + \"\\n\")\n",
    "    f.write(f\"<<<< <generated_text>\\n\")\n",
    "    for i, text in enumerate(generated_text):\n",
    "        f.write(\"\\n\" + \"-\" * 80 + \"\\n\")\n",
    "        f.write(\">>>> \" + decode(text[:context_len].tolist()) + \"\\n\")\n",
    "        f.write(\"-\" * 20 + \"\\n\")\n",
    "        f.write(\"<<<< \" + decode(text[context_len:].tolist()) + \"\\n\")\n",
    "        if i + 1 >= batch_gen:\n",
    "            break\n",
    "print(f\"generation results saved to {gen_results_filename}\")"
   ]
  }
 ],
 "metadata": {
  "kernelspec": {
   "display_name": ".venv (3.12.3)",
   "language": "python",
   "name": "python3"
  },
  "language_info": {
   "codemirror_mode": {
    "name": "ipython",
    "version": 3
   },
   "file_extension": ".py",
   "mimetype": "text/x-python",
   "name": "python",
   "nbconvert_exporter": "python",
   "pygments_lexer": "ipython3",
   "version": "3.12.3"
  }
 },
 "nbformat": 4,
 "nbformat_minor": 5
}
