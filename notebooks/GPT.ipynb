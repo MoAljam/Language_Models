{
 "cells": [
  {
   "cell_type": "code",
   "execution_count": 14,
   "id": "38be1234",
   "metadata": {},
   "outputs": [],
   "source": [
    "# uncomment if running in colab\n",
    "# # install the github repo https://github.com/Edogor/GPT_from_scratch.git\n",
    "# !git clone https://github.com/Edogor/GPT_from_scratch.git\n",
    "# # change to repo dir and install requirements\n",
    "# %cd /content/GPT_from_scratch/\n",
    "# %pip install -r requirements.txt\n",
    "# # download and prep preprocess data\n",
    "# !python clean_nltk_shakespear_data_w_nl.py\n",
    "# # change to notebooks dir\n",
    "# %cd notebooks/\n",
    "# %pwd ."
   ]
  },
  {
   "cell_type": "markdown",
   "id": "5814d877",
   "metadata": {},
   "source": [
    "## imports"
   ]
  },
  {
   "cell_type": "code",
   "execution_count": 1,
   "id": "3f9eb46e",
   "metadata": {},
   "outputs": [],
   "source": [
    "import torch\n",
    "import torch.nn as nn\n",
    "import torch.nn.functional as F    \n",
    "from torch.optim import AdamW\n",
    "from torch.amp import GradScaler\n",
    "from torch.optim.lr_scheduler import CosineAnnealingLR\n",
    "from torch.optim.lr_scheduler import CosineAnnealingWarmRestarts\n",
    "from torch.utils.tensorboard import SummaryWriter\n",
    "\n",
    "import numpy as np\n",
    "import pandas as pd\n",
    "import matplotlib.pyplot as plt\n",
    "from tqdm.auto import tqdm\n",
    "import time\n",
    "from functools import partial\n",
    "\n",
    "import json\n",
    "import os\n",
    "\n",
    "CHECKPOINT_DIR = os.path.join(\"..\", \"checkpoints\", \"GPT\")\n",
    "LOG_DIR = os.path.join(\"..\", \"logs\", \"GPT\")\n",
    "RESULTS_DIR = os.path.join(\"..\", \"results\", \"GPT\")\n",
    "\n",
    "os.makedirs(CHECKPOINT_DIR, exist_ok=True)\n",
    "os.makedirs(RESULTS_DIR, exist_ok=True)\n",
    "os.makedirs(LOG_DIR, exist_ok=True)"
   ]
  },
  {
   "cell_type": "code",
   "execution_count": 2,
   "id": "c82e03fd",
   "metadata": {},
   "outputs": [],
   "source": [
    "# add parent directory to the path to allow imports\n",
    "import sys\n",
    "sys.path.append(os.path.abspath(os.path.join(os.getcwd(), \"..\")))\n",
    "\n",
    "from GPT_mj import GPT, ConfigGPT\n",
    "from train_mj import train, evaluate, ConfigTrain\n",
    "from utils import init_dataloader, WarmupThenCosine, set_seed, count_params, save_checkpoint, load_checkpoint\n",
    "from bpe_hf import train_bytelevel_bpe, load_tokenizer, TOK_SPECIAL_TOKENS, TOK_SAVE_DIR"
   ]
  },
  {
   "cell_type": "markdown",
   "id": "ab76fdc7",
   "metadata": {},
   "source": [
    "## load data"
   ]
  },
  {
   "cell_type": "code",
   "execution_count": 3,
   "id": "c8960270",
   "metadata": {},
   "outputs": [
    {
     "name": "stdout",
     "output_type": "stream",
     "text": [
      "train text charachters length:  883046\n",
      "train text words count:  158364\n",
      "train text first 100 chars:  The Tragedy of Antony and Cleopatra\n",
      "\n",
      "\n",
      "Dramatis Personae\n",
      "\n",
      "\n",
      "\n",
      "MARK ANTONY\n",
      "OCTAVIUS CAESAR\n",
      "M. AEMILIUS L\n"
     ]
    }
   ],
   "source": [
    "data_dir = \"../data/\"\n",
    "# without nl\n",
    "# train_file = \"Shakespeare_clean_train.txt\"\n",
    "# val_file = \"Shakespeare_clean_valid.txt\"\n",
    "# test_file = \"Shakespeare_clean_test.txt\"\n",
    "# with nl\n",
    "train_file = \"Shakespeare_clean_w_nl_train.txt\"\n",
    "val_file = \"Shakespeare_clean_w_nl_valid.txt\"\n",
    "test_file = \"Shakespeare_clean_w_nl_test.txt\"\n",
    "\n",
    "train_file = os.path.join(data_dir, train_file)\n",
    "test_file = os.path.join(data_dir, test_file)\n",
    "val_file = os.path.join(data_dir, val_file)\n",
    "\n",
    "with open(train_file, \"r\", encoding=\"utf-8\") as f:\n",
    "    train_text = f.read().strip()\n",
    "\n",
    "with open(val_file, \"r\", encoding=\"utf-8\") as f:\n",
    "    val_text = f.read().strip()\n",
    "\n",
    "with open(test_file, \"r\", encoding=\"utf-8\") as f:\n",
    "    test_text = f.read().strip()\n",
    "\n",
    "print(\"train text charachters length: \", len(train_text))\n",
    "print(\"train text words count: \", len(train_text.split()))\n",
    "print(\"train text first 100 chars: \", train_text[:100])"
   ]
  },
  {
   "cell_type": "markdown",
   "id": "e7f2d8ae",
   "metadata": {},
   "source": [
    "## initialize tokensizer and data embeddings"
   ]
  },
  {
   "cell_type": "code",
   "execution_count": 4,
   "id": "901d108a",
   "metadata": {},
   "outputs": [
    {
     "name": "stdout",
     "output_type": "stream",
     "text": [
      "vocab size:  460\n",
      "BPE tokenizer vocab:  [('đ', 209), ('¯', 111), ('ĠT', 292), ('Ġdo', 378), ('§', 104), ('ė', 215), ('Ė', 214), ('ê', 170), ('Ĵ', 244), ('ĠP', 370), ('ł', 258), ('en', 288), ('Æ', 134), ('ÿ', 191), ('Ē', 210), ('Ġto', 296), ('ä', 164), ('Û', 155), ('%', 8), ('Ĝ', 220), ('Ġwill', 398), ('h', 75), ('Ġa', 264), ('â', 162), ('[', 62), ('ĠThat', 439), ('Ġyou', 297), ('pe', 416), ('ľ', 254), ('Þ', 158), ('Ġher', 423), ('¥', 102), ('z', 93), ('p', 83), ('ċ', 203), ('Ġour', 445), ('ĠF', 367), ('?', 34), ('Ġl', 285), (\"Ġ'\", 411), ('Ć', 198), ('B', 37), ('he', 263), ('it', 281), ('þ', 190), ('į', 239), ('ad', 353), ('ĠN', 388), ('¼', 124), ('Ă', 194), ('EN', 419), ('Ġfa', 436), ('Ġme', 328), ('}', 96), ('ri', 360), (\"'s\", 340), ('ĠR', 404), ('³', 115), ('ore', 396), ('Ġsha', 405), ('ã', 163), ('ur', 368), ('Ĺ', 249), ('Ġha', 320), ('ay', 319), ('c', 70), ('Ġm', 267), ('d', 71), ('e', 72), ('×', 151), ('id', 364), ('ET', 385), ('¶', 118), ('ô', 180), ('Ï', 143), ('Ç', 135), ('Ġand', 298), ('º', 122), ('ed', 334), ('s', 86), ('U', 56), ('ĠO', 333), ('Ġt', 261), ('o', 82), ('Ā', 192), ('ent', 361), ('ke', 356), ('ir', 329), ('y', 92), ('a', 68), ('ĠI', 277), ('Ġof', 302), ('Ķ', 246), ('ak', 435), ('Ë', 139), ('Ī', 234), ('4', 23), ('ch', 332), ('her', 380), ('ý', 189)]\n",
      "train ids length:  496948\n",
      "train ids first 100 ids:  [362, 292, 375, 74, 334, 92, 302, 293, 359, 282, 92, 298, 316, 323, 82, 83, 311, 375, 202, 202, 202, 39, 375, 80, 311]\n",
      "train ids first 100 individual tokens:  ['ĠThe', 'ĠT', 'ra', 'g', 'ed', 'y', 'Ġof', 'ĠA', 'nt', 'on', 'y', 'Ġand', 'ĠC', 'le', 'o', 'p', 'at', 'ra', 'Ċ', 'Ċ', 'Ċ', 'D', 'ra', 'm', 'at']\n"
     ]
    }
   ],
   "source": [
    "N_MERGES = 200\n",
    "MIN_FREQ = 2\n",
    "\n",
    "SPECIAL_TOKENS = TOK_SPECIAL_TOKENS.copy()\n",
    "PAD_TOKEN = SPECIAL_TOKENS.get(\"pad\", \"<pad>\")\n",
    "BOS_TOKEN = SPECIAL_TOKENS.get(\"bos\", \"<bos>\")\n",
    "EOS_TOKEN = SPECIAL_TOKENS.get(\"eos\", \"<eos>\")\n",
    "\n",
    "tok_name = f\"bpe_GPT_{N_MERGES}.json\"\n",
    "tok_dir = TOK_SAVE_DIR\n",
    "bpe_tokenizer = train_bytelevel_bpe(files=[train_file],\n",
    "                                merges=N_MERGES, \n",
    "                                min_frequency=MIN_FREQ,\n",
    "                                special_tokens=SPECIAL_TOKENS,\n",
    "                                lowercase=False,\n",
    "                                add_prefix_space=True,\n",
    "                                save_filename=tok_name,\n",
    "                                save_dir=tok_dir)\n",
    "\n",
    "encode = partial(bpe_tokenizer.encode, add_special_tokens=False)\n",
    "decode = bpe_tokenizer.decode\n",
    "vocab_size = bpe_tokenizer.get_vocab_size()\n",
    "print(\"vocab size: \", vocab_size)\n",
    "print(\"BPE tokenizer vocab: \", list(bpe_tokenizer.get_vocab().items())[:100])\n",
    "\n",
    "PAD_TOKEN_ID = bpe_tokenizer.token_to_id(PAD_TOKEN) \n",
    "BOS_TOKEN_ID = bpe_tokenizer.token_to_id(BOS_TOKEN)\n",
    "EOS_TOKEN_ID = bpe_tokenizer.token_to_id(EOS_TOKEN)\n",
    "\n",
    "train_ids = encode(train_text).ids\n",
    "test_ids = encode(test_text).ids\n",
    "val_ids = encode(val_text).ids\n",
    "\n",
    "print(\"train ids length: \", len(train_ids))\n",
    "print(\"train ids first 100 ids: \", train_ids[:25])\n",
    "print(\"train ids first 100 individual tokens: \", [bpe_tokenizer.id_to_token(i) for i in train_ids[:25]]) "
   ]
  },
  {
   "cell_type": "markdown",
   "id": "87b73455",
   "metadata": {},
   "source": [
    "## define the model's and training parameters (configs)"
   ]
  },
  {
   "cell_type": "code",
   "execution_count": 6,
   "id": "619ca315",
   "metadata": {},
   "outputs": [
    {
     "name": "stdout",
     "output_type": "stream",
     "text": [
      "device:  cpu\n",
      "vocab size:  460\n",
      "number of model parameters:  528460\n",
      "number of batches in train loader:  7764\n",
      "number of batches in test loader:  957\n",
      "number of batches in val loader:  940\n",
      "log dir:  ../logs/GPT/gpt_em128_hd4_ly2_bpe200/lr0.0003_drop0.1_250826_013837\n",
      "checkpoint dir:  ../checkpoints/GPT\n",
      "checkpoint best filename:  gpt_em128_hd4_ly2_bpe200_best.pt\n",
      "checkpoint last filename:  gpt_em128_hd4_ly2_bpe200_last.pt\n"
     ]
    }
   ],
   "source": [
    "SEED = 123\n",
    "DEVICE = \"cuda\" if torch.cuda.is_available() else \"cpu\"\n",
    "# hyperparameters \n",
    "# tokenizer\n",
    "# N_MERGES = 200\n",
    "# MIN_FREQ = 2\n",
    "# data\n",
    "BATCH_SIZE = 64\n",
    "BLOCK_SIZE = 128\n",
    "\n",
    "#  model\n",
    "N_EMBED = 128\n",
    "N_HEADS = 4\n",
    "N_LAYERS = 2\n",
    "DROPOUT = 0.1\n",
    "# optimizer\n",
    "LR = 3e-4\n",
    "WEIGHT_DECAY = 1e-3\n",
    "# scheduler\n",
    "ETA_MIN = 1e-7\n",
    "\n",
    "# training loop\n",
    "EPOCHS = 60\n",
    "ES_PATIENCE = 5\n",
    "ES_TOLERANCE = 1e-6\n",
    "GRAD_ACCUM_STEPS = 1\n",
    "USE_AMP = False # IMPORTANT: set to False if training on CPU training \n",
    "\n",
    "# checkpoints\n",
    "EVAL_INTERVAL = 2  # evaluate every n epochs\n",
    "CKPT_INTERVAL = 10  # save checkpoint every n epochs\n",
    "\n",
    "# make unique checkpoint file prefix from the parameters\n",
    "ckpt_file_prefix = f\"gpt_em{N_EMBED}_hd{N_HEADS}_ly{N_LAYERS}_bpe{N_MERGES}\"\n",
    "all_hparams_cfg_filename = f\"{ckpt_file_prefix}_hparams.json\"\n",
    "\n",
    "# config for training\n",
    "cfg_train = ConfigTrain(device=DEVICE,\n",
    "                    epochs=EPOCHS, \n",
    "                    early_stop_patience=ES_PATIENCE,\n",
    "                    early_stop_tolerance=ES_TOLERANCE,\n",
    "                    grad_accum_steps=GRAD_ACCUM_STEPS,\n",
    "                    # max_grad_norm=data.get(\"max_grad_norm\", 1.0),\n",
    "                    use_amp=USE_AMP,\n",
    "                    seed=SEED,\n",
    "                    eval_interval=EVAL_INTERVAL,\n",
    "                    ckpt_interval=CKPT_INTERVAL,\n",
    "                    ckpt_dir=CHECKPOINT_DIR,\n",
    "                    ckpt_best_filename=f\"{ckpt_file_prefix}_best.pt\",\n",
    "                    ckpt_last_filename=f\"{ckpt_file_prefix}_last.pt\",\n",
    "                    log_dir=os.path.join(LOG_DIR, f\"{ckpt_file_prefix}\", f'lr{LR}_drop{DROPOUT}_{time.strftime(\"%y%m%d_%H%M%S\")}'),\n",
    "                    )\n",
    "# config for model\n",
    "cfg_model = ConfigGPT(\n",
    "                    vocab_size=vocab_size,\n",
    "                    block_size=BLOCK_SIZE,  \n",
    "                    n_embed=N_EMBED,\n",
    "                    n_head=N_HEADS,  \n",
    "                    n_layer=N_LAYERS, \n",
    "                    dropout=DROPOUT,\n",
    "                    bias=False,\n",
    "                    )\n",
    "\n",
    "print(\"device: \", DEVICE)\n",
    "# model parameters\n",
    "print(\"vocab size: \", vocab_size)\n",
    "print(\"number of model parameters: \", count_params(GPT(config=cfg_model)))\n",
    "\n",
    "# print all log and checkpoint dir and filenames\n",
    "print(\"number of batches in train loader: \", len(train_ids)//BATCH_SIZE)\n",
    "print(\"number of batches in test loader: \", len(test_ids)//BATCH_SIZE)\n",
    "print(\"number of batches in val loader: \", len(val_ids)//BATCH_SIZE)\n",
    "\n",
    "print(\"log dir: \", cfg_train.log_dir)\n",
    "print(\"checkpoint dir: \", cfg_train.ckpt_dir)\n",
    "print(\"checkpoint best filename: \", cfg_train.ckpt_best_filename)\n",
    "print(\"checkpoint last filename: \", cfg_train.ckpt_last_filename)"
   ]
  },
  {
   "cell_type": "markdown",
   "id": "379c4f85",
   "metadata": {},
   "source": [
    "## Train the model"
   ]
  },
  {
   "cell_type": "code",
   "execution_count": 7,
   "id": "ae5c7db4",
   "metadata": {},
   "outputs": [
    {
     "name": "stdout",
     "output_type": "stream",
     "text": [
      "Model parameters: 528_460\n",
      "vocab size:  460\n",
      "excepted iniital CE loss( uniform model ): 6.1312, ppl: 460.0000\n",
      "not trained model Initial validation loss: 6.1518, ppl: 469.5663\n",
      "GPT(\n",
      "  (embedding): Embedding(460, 128)\n",
      "  (position_embedding): Embedding(128, 128)\n",
      "  (dropout_em): Dropout(p=0.1, inplace=False)\n",
      "  (decoder_blocks): Sequential(\n",
      "    (0): DecoderBlock(\n",
      "      (layer_norm_1): LayerNorm((128,), eps=1e-05, elementwise_affine=True)\n",
      "      (attention): CausalSelfAttention(\n",
      "        (self_attn): Linear(in_features=128, out_features=384, bias=False)\n",
      "        (dropout_attn): Dropout(p=0.1, inplace=False)\n",
      "        (lin_proj): Linear(in_features=128, out_features=128, bias=False)\n",
      "        (dropout_proj): Dropout(p=0.1, inplace=False)\n",
      "      )\n",
      "      (layer_norm_mlp): LayerNorm((128,), eps=1e-05, elementwise_affine=True)\n",
      "      (mlp): SimpleMLP(\n",
      "        (lin_wide): Linear(in_features=128, out_features=512, bias=False)\n",
      "        (gelu): GELU(approximate='none')\n",
      "        (lin_proj_back): Linear(in_features=512, out_features=128, bias=False)\n",
      "        (dropout): Dropout(p=0.1, inplace=False)\n",
      "      )\n",
      "    )\n",
      "    (1): DecoderBlock(\n",
      "      (layer_norm_1): LayerNorm((128,), eps=1e-05, elementwise_affine=True)\n",
      "      (attention): CausalSelfAttention(\n",
      "        (self_attn): Linear(in_features=128, out_features=384, bias=False)\n",
      "        (dropout_attn): Dropout(p=0.1, inplace=False)\n",
      "        (lin_proj): Linear(in_features=128, out_features=128, bias=False)\n",
      "        (dropout_proj): Dropout(p=0.1, inplace=False)\n",
      "      )\n",
      "      (layer_norm_mlp): LayerNorm((128,), eps=1e-05, elementwise_affine=True)\n",
      "      (mlp): SimpleMLP(\n",
      "        (lin_wide): Linear(in_features=128, out_features=512, bias=False)\n",
      "        (gelu): GELU(approximate='none')\n",
      "        (lin_proj_back): Linear(in_features=512, out_features=128, bias=False)\n",
      "        (dropout): Dropout(p=0.1, inplace=False)\n",
      "      )\n",
      "    )\n",
      "  )\n",
      "  (lyer_norm): LayerNorm((128,), eps=1e-05, elementwise_affine=True)\n",
      "  (lin_out): Linear(in_features=128, out_features=460, bias=True)\n",
      ")\n"
     ]
    }
   ],
   "source": [
    "set_seed(cfg_train.seed)\n",
    "train_loader = init_dataloader(train_ids, BLOCK_SIZE, BATCH_SIZE, train=True, shuffle=True)\n",
    "val_loader = init_dataloader(val_ids, BLOCK_SIZE, BATCH_SIZE, train=False, shuffle=True)\n",
    "test_loader = init_dataloader(test_ids, BLOCK_SIZE, BATCH_SIZE, train=False, shuffle=False)\n",
    "\n",
    "model = GPT(config=cfg_model,)\n",
    "model.to(cfg_train.device)\n",
    "model_size = count_params(model)\n",
    "\n",
    "optimizer = AdamW(model.parameters(), lr=LR, weight_decay=WEIGHT_DECAY, foreach=True if DEVICE==\"cpu\" else None)\n",
    "\n",
    "\n",
    "lr_scheduler = WarmupThenCosine(optimizer, warmup_steps=500, T_max=cfg_train.epochs * len(train_loader) // max(1, cfg_train.grad_accum_steps), eta_min=ETA_MIN)\n",
    "# rl_scheduler = CosineAnnealingLR(optimizer, T_max=cfg.epochs * len(train_loader) // max(1, cfg.grad_accum_steps), eta_min=ETA_MIN)\n",
    "# rl_scheduler = CosineAnnealingWarmRestarts(optimizer, T_0=2 * len(train_loader) // max(1, cfg.grad_accum_steps), T_mult=2, eta_min=ETA_MIN)\n",
    "\n",
    "scaler = GradScaler(enabled=cfg_train.use_amp)\n",
    "\n",
    "summary_writer = SummaryWriter(log_dir=cfg_train.log_dir, flush_secs=5)\n",
    "\n",
    "# add model graph to tensorboard\n",
    "# write model graph\n",
    "# dummy_input = torch.zeros((1, BLOCK_SIZE), dtype=torch.long, device=cfg_train.device)\n",
    "# summary_writer.add_graph(model.eval(), dummy_input)  # eval() avoids dropout noise\n",
    "# summary_writer.flush()\n",
    "# summary_writer.close()\n",
    "\n",
    "# compile the model (can skip if not needed)\n",
    "try:\n",
    "    if cfg_train.device == \"cpu\":\n",
    "        model.compile(mode=\"reduce-overhead\")\n",
    "    else:\n",
    "        model.compile()\n",
    "except Exception as e:\n",
    "    print(\"model compilation was not successful. Exception: \", e)\n",
    "\n",
    "# inspect the model\n",
    "print(f\"Model parameters: {model_size:_}\")\n",
    "print(\"vocab size: \", vocab_size)\n",
    "print(f\"excepted iniital CE loss( uniform model ): {-np.log(1/vocab_size):.4f}, ppl: {np.exp(-np.log(1/vocab_size)):.4f}\")\n",
    "# evaluate the untrained model\n",
    "val_loss = evaluate(model, val_loader, device=cfg_train.device)\n",
    "val_ppl = np.exp(val_loss)\n",
    "print(f\"not trained model Initial validation loss: {val_loss:.4f}, ppl: {val_ppl:.4f}\")\n",
    "print(model)"
   ]
  },
  {
   "cell_type": "code",
   "execution_count": 7,
   "id": "422af458",
   "metadata": {},
   "outputs": [
    {
     "data": {
      "application/vnd.jupyter.widget-view+json": {
       "model_id": "0961d5d2aa4e4e898738d98720a8495a",
       "version_major": 2,
       "version_minor": 0
      },
      "text/plain": [
       "Training Progress:   0%|          | 0/60 [00:00<?, ?it/s]"
      ]
     },
     "metadata": {},
     "output_type": "display_data"
    },
    {
     "data": {
      "application/vnd.jupyter.widget-view+json": {
       "model_id": "ef6b9fb46595470cb86d29cb4eefb01a",
       "version_major": 2,
       "version_minor": 0
      },
      "text/plain": [
       "Epoch 1/60:   0%|          | 0/61 [00:00<?, ?it/s]"
      ]
     },
     "metadata": {},
     "output_type": "display_data"
    },
    {
     "data": {
      "application/vnd.jupyter.widget-view+json": {
       "model_id": "f4aa1ebdbab745ce8feeb4cf7ae84597",
       "version_major": 2,
       "version_minor": 0
      },
      "text/plain": [
       "Epoch 2/60:   0%|          | 0/61 [00:00<?, ?it/s]"
      ]
     },
     "metadata": {},
     "output_type": "display_data"
    },
    {
     "data": {
      "application/vnd.jupyter.widget-view+json": {
       "model_id": "9fbcd0bb5a1a48358268cddeaf9874ac",
       "version_major": 2,
       "version_minor": 0
      },
      "text/plain": [
       "Epoch 3/60:   0%|          | 0/61 [00:00<?, ?it/s]"
      ]
     },
     "metadata": {},
     "output_type": "display_data"
    },
    {
     "data": {
      "application/vnd.jupyter.widget-view+json": {
       "model_id": "b64d1ef1328e4ee19ffc9742db43422f",
       "version_major": 2,
       "version_minor": 0
      },
      "text/plain": [
       "Epoch 4/60:   0%|          | 0/61 [00:00<?, ?it/s]"
      ]
     },
     "metadata": {},
     "output_type": "display_data"
    },
    {
     "data": {
      "application/vnd.jupyter.widget-view+json": {
       "model_id": "cff505bdf35f46b2975beec9f7c7f93a",
       "version_major": 2,
       "version_minor": 0
      },
      "text/plain": [
       "Epoch 5/60:   0%|          | 0/61 [00:00<?, ?it/s]"
      ]
     },
     "metadata": {},
     "output_type": "display_data"
    },
    {
     "data": {
      "application/vnd.jupyter.widget-view+json": {
       "model_id": "b94c9acddca24d8a9bb6185ddbaba14f",
       "version_major": 2,
       "version_minor": 0
      },
      "text/plain": [
       "Epoch 6/60:   0%|          | 0/61 [00:00<?, ?it/s]"
      ]
     },
     "metadata": {},
     "output_type": "display_data"
    },
    {
     "data": {
      "application/vnd.jupyter.widget-view+json": {
       "model_id": "aba9ffd9b6d24d80b4a0484f703ede4c",
       "version_major": 2,
       "version_minor": 0
      },
      "text/plain": [
       "Epoch 7/60:   0%|          | 0/61 [00:00<?, ?it/s]"
      ]
     },
     "metadata": {},
     "output_type": "display_data"
    },
    {
     "data": {
      "application/vnd.jupyter.widget-view+json": {
       "model_id": "5095ba69463247a7b29f3b4aee1a4a7c",
       "version_major": 2,
       "version_minor": 0
      },
      "text/plain": [
       "Epoch 8/60:   0%|          | 0/61 [00:00<?, ?it/s]"
      ]
     },
     "metadata": {},
     "output_type": "display_data"
    },
    {
     "data": {
      "application/vnd.jupyter.widget-view+json": {
       "model_id": "8fc6145449614bfa866936788a29f129",
       "version_major": 2,
       "version_minor": 0
      },
      "text/plain": [
       "Epoch 9/60:   0%|          | 0/61 [00:00<?, ?it/s]"
      ]
     },
     "metadata": {},
     "output_type": "display_data"
    },
    {
     "data": {
      "application/vnd.jupyter.widget-view+json": {
       "model_id": "5034ba46046745baa2c5926e87b824aa",
       "version_major": 2,
       "version_minor": 0
      },
      "text/plain": [
       "Epoch 10/60:   0%|          | 0/61 [00:00<?, ?it/s]"
      ]
     },
     "metadata": {},
     "output_type": "display_data"
    },
    {
     "data": {
      "application/vnd.jupyter.widget-view+json": {
       "model_id": "f5451019afdc443399717c599d8dc808",
       "version_major": 2,
       "version_minor": 0
      },
      "text/plain": [
       "Epoch 11/60:   0%|          | 0/61 [00:00<?, ?it/s]"
      ]
     },
     "metadata": {},
     "output_type": "display_data"
    },
    {
     "data": {
      "application/vnd.jupyter.widget-view+json": {
       "model_id": "66ca1a4afc1b47f2aa548378bdc4b6ff",
       "version_major": 2,
       "version_minor": 0
      },
      "text/plain": [
       "Epoch 12/60:   0%|          | 0/61 [00:00<?, ?it/s]"
      ]
     },
     "metadata": {},
     "output_type": "display_data"
    },
    {
     "data": {
      "application/vnd.jupyter.widget-view+json": {
       "model_id": "f1e5523c96a64c6a93495a52e35cfeca",
       "version_major": 2,
       "version_minor": 0
      },
      "text/plain": [
       "Epoch 13/60:   0%|          | 0/61 [00:00<?, ?it/s]"
      ]
     },
     "metadata": {},
     "output_type": "display_data"
    },
    {
     "data": {
      "application/vnd.jupyter.widget-view+json": {
       "model_id": "4cd4e341861e487da2c31fef2551fa83",
       "version_major": 2,
       "version_minor": 0
      },
      "text/plain": [
       "Epoch 14/60:   0%|          | 0/61 [00:00<?, ?it/s]"
      ]
     },
     "metadata": {},
     "output_type": "display_data"
    },
    {
     "data": {
      "application/vnd.jupyter.widget-view+json": {
       "model_id": "d2b2be82962342629ddf39f177541664",
       "version_major": 2,
       "version_minor": 0
      },
      "text/plain": [
       "Epoch 15/60:   0%|          | 0/61 [00:00<?, ?it/s]"
      ]
     },
     "metadata": {},
     "output_type": "display_data"
    },
    {
     "data": {
      "application/vnd.jupyter.widget-view+json": {
       "model_id": "5d9e4df831874f86a470f9e29c203ab4",
       "version_major": 2,
       "version_minor": 0
      },
      "text/plain": [
       "Epoch 16/60:   0%|          | 0/61 [00:00<?, ?it/s]"
      ]
     },
     "metadata": {},
     "output_type": "display_data"
    },
    {
     "data": {
      "application/vnd.jupyter.widget-view+json": {
       "model_id": "c5a256c6deaf438080b164a5ae10a5c6",
       "version_major": 2,
       "version_minor": 0
      },
      "text/plain": [
       "Epoch 17/60:   0%|          | 0/61 [00:00<?, ?it/s]"
      ]
     },
     "metadata": {},
     "output_type": "display_data"
    },
    {
     "data": {
      "application/vnd.jupyter.widget-view+json": {
       "model_id": "c07d240b852947a587bc31098a298a21",
       "version_major": 2,
       "version_minor": 0
      },
      "text/plain": [
       "Epoch 18/60:   0%|          | 0/61 [00:00<?, ?it/s]"
      ]
     },
     "metadata": {},
     "output_type": "display_data"
    },
    {
     "data": {
      "application/vnd.jupyter.widget-view+json": {
       "model_id": "4f63a5d123544f08bd77c4b8e2d16106",
       "version_major": 2,
       "version_minor": 0
      },
      "text/plain": [
       "Epoch 19/60:   0%|          | 0/61 [00:00<?, ?it/s]"
      ]
     },
     "metadata": {},
     "output_type": "display_data"
    },
    {
     "data": {
      "application/vnd.jupyter.widget-view+json": {
       "model_id": "5e575286ef2641838146fbd8131520a9",
       "version_major": 2,
       "version_minor": 0
      },
      "text/plain": [
       "Epoch 20/60:   0%|          | 0/61 [00:00<?, ?it/s]"
      ]
     },
     "metadata": {},
     "output_type": "display_data"
    },
    {
     "data": {
      "application/vnd.jupyter.widget-view+json": {
       "model_id": "f65522342f1c45cbbb688d5986c5aaf0",
       "version_major": 2,
       "version_minor": 0
      },
      "text/plain": [
       "Epoch 21/60:   0%|          | 0/61 [00:00<?, ?it/s]"
      ]
     },
     "metadata": {},
     "output_type": "display_data"
    },
    {
     "data": {
      "application/vnd.jupyter.widget-view+json": {
       "model_id": "ab054ccd6dcf401f86fd01c16c29643c",
       "version_major": 2,
       "version_minor": 0
      },
      "text/plain": [
       "Epoch 22/60:   0%|          | 0/61 [00:00<?, ?it/s]"
      ]
     },
     "metadata": {},
     "output_type": "display_data"
    },
    {
     "data": {
      "application/vnd.jupyter.widget-view+json": {
       "model_id": "8df41d7ab9f94d7396a5f54ab020f864",
       "version_major": 2,
       "version_minor": 0
      },
      "text/plain": [
       "Epoch 23/60:   0%|          | 0/61 [00:00<?, ?it/s]"
      ]
     },
     "metadata": {},
     "output_type": "display_data"
    },
    {
     "data": {
      "application/vnd.jupyter.widget-view+json": {
       "model_id": "56137d14d190405bb9768c1641781916",
       "version_major": 2,
       "version_minor": 0
      },
      "text/plain": [
       "Epoch 24/60:   0%|          | 0/61 [00:00<?, ?it/s]"
      ]
     },
     "metadata": {},
     "output_type": "display_data"
    },
    {
     "data": {
      "application/vnd.jupyter.widget-view+json": {
       "model_id": "ee4337b31efa4a6e9779353e38d3b800",
       "version_major": 2,
       "version_minor": 0
      },
      "text/plain": [
       "Epoch 25/60:   0%|          | 0/61 [00:00<?, ?it/s]"
      ]
     },
     "metadata": {},
     "output_type": "display_data"
    },
    {
     "data": {
      "application/vnd.jupyter.widget-view+json": {
       "model_id": "3a887740f536443b96afb57abf29ffdc",
       "version_major": 2,
       "version_minor": 0
      },
      "text/plain": [
       "Epoch 26/60:   0%|          | 0/61 [00:00<?, ?it/s]"
      ]
     },
     "metadata": {},
     "output_type": "display_data"
    },
    {
     "data": {
      "application/vnd.jupyter.widget-view+json": {
       "model_id": "02609149540149e69232335bfcadc6f7",
       "version_major": 2,
       "version_minor": 0
      },
      "text/plain": [
       "Epoch 27/60:   0%|          | 0/61 [00:00<?, ?it/s]"
      ]
     },
     "metadata": {},
     "output_type": "display_data"
    },
    {
     "data": {
      "application/vnd.jupyter.widget-view+json": {
       "model_id": "7e433dffaf554f3f8d1829d4e8f0d955",
       "version_major": 2,
       "version_minor": 0
      },
      "text/plain": [
       "Epoch 28/60:   0%|          | 0/61 [00:00<?, ?it/s]"
      ]
     },
     "metadata": {},
     "output_type": "display_data"
    },
    {
     "data": {
      "application/vnd.jupyter.widget-view+json": {
       "model_id": "f10556c989774c1ea1c8753fed184971",
       "version_major": 2,
       "version_minor": 0
      },
      "text/plain": [
       "Epoch 29/60:   0%|          | 0/61 [00:00<?, ?it/s]"
      ]
     },
     "metadata": {},
     "output_type": "display_data"
    },
    {
     "data": {
      "application/vnd.jupyter.widget-view+json": {
       "model_id": "088c0e806a0e488c887dd093fef687de",
       "version_major": 2,
       "version_minor": 0
      },
      "text/plain": [
       "Epoch 30/60:   0%|          | 0/61 [00:00<?, ?it/s]"
      ]
     },
     "metadata": {},
     "output_type": "display_data"
    },
    {
     "data": {
      "application/vnd.jupyter.widget-view+json": {
       "model_id": "82e86c34006b4737a757c5fdaaf6440e",
       "version_major": 2,
       "version_minor": 0
      },
      "text/plain": [
       "Epoch 31/60:   0%|          | 0/61 [00:00<?, ?it/s]"
      ]
     },
     "metadata": {},
     "output_type": "display_data"
    },
    {
     "data": {
      "application/vnd.jupyter.widget-view+json": {
       "model_id": "3d0ca4b4d66a42d3ba557b3e0ad391af",
       "version_major": 2,
       "version_minor": 0
      },
      "text/plain": [
       "Epoch 32/60:   0%|          | 0/61 [00:00<?, ?it/s]"
      ]
     },
     "metadata": {},
     "output_type": "display_data"
    },
    {
     "data": {
      "application/vnd.jupyter.widget-view+json": {
       "model_id": "ecfa860424f5466e9a84a92de842c8b0",
       "version_major": 2,
       "version_minor": 0
      },
      "text/plain": [
       "Epoch 33/60:   0%|          | 0/61 [00:00<?, ?it/s]"
      ]
     },
     "metadata": {},
     "output_type": "display_data"
    },
    {
     "data": {
      "application/vnd.jupyter.widget-view+json": {
       "model_id": "8a3a5b2681384ac3ba2110bfe8e8d4e2",
       "version_major": 2,
       "version_minor": 0
      },
      "text/plain": [
       "Epoch 34/60:   0%|          | 0/61 [00:00<?, ?it/s]"
      ]
     },
     "metadata": {},
     "output_type": "display_data"
    },
    {
     "data": {
      "application/vnd.jupyter.widget-view+json": {
       "model_id": "c5dbc6caa7eb41f998e762f644538aae",
       "version_major": 2,
       "version_minor": 0
      },
      "text/plain": [
       "Epoch 35/60:   0%|          | 0/61 [00:00<?, ?it/s]"
      ]
     },
     "metadata": {},
     "output_type": "display_data"
    },
    {
     "data": {
      "application/vnd.jupyter.widget-view+json": {
       "model_id": "c1fde15c304f4e19a9b38e23579a1b57",
       "version_major": 2,
       "version_minor": 0
      },
      "text/plain": [
       "Epoch 36/60:   0%|          | 0/61 [00:00<?, ?it/s]"
      ]
     },
     "metadata": {},
     "output_type": "display_data"
    },
    {
     "data": {
      "application/vnd.jupyter.widget-view+json": {
       "model_id": "c38511b32d40420292e8cf07ad9033f0",
       "version_major": 2,
       "version_minor": 0
      },
      "text/plain": [
       "Epoch 37/60:   0%|          | 0/61 [00:00<?, ?it/s]"
      ]
     },
     "metadata": {},
     "output_type": "display_data"
    },
    {
     "data": {
      "application/vnd.jupyter.widget-view+json": {
       "model_id": "40910c9b467c4be8b6a52b9d0883d3da",
       "version_major": 2,
       "version_minor": 0
      },
      "text/plain": [
       "Epoch 38/60:   0%|          | 0/61 [00:00<?, ?it/s]"
      ]
     },
     "metadata": {},
     "output_type": "display_data"
    },
    {
     "data": {
      "application/vnd.jupyter.widget-view+json": {
       "model_id": "55700abd3b6f439fb3a68b6bbbd99700",
       "version_major": 2,
       "version_minor": 0
      },
      "text/plain": [
       "Epoch 39/60:   0%|          | 0/61 [00:00<?, ?it/s]"
      ]
     },
     "metadata": {},
     "output_type": "display_data"
    },
    {
     "data": {
      "application/vnd.jupyter.widget-view+json": {
       "model_id": "60f007ce860a4a40af7445951436fc06",
       "version_major": 2,
       "version_minor": 0
      },
      "text/plain": [
       "Epoch 40/60:   0%|          | 0/61 [00:00<?, ?it/s]"
      ]
     },
     "metadata": {},
     "output_type": "display_data"
    },
    {
     "data": {
      "application/vnd.jupyter.widget-view+json": {
       "model_id": "4868c16b964943cda2ce7ff35205497c",
       "version_major": 2,
       "version_minor": 0
      },
      "text/plain": [
       "Epoch 41/60:   0%|          | 0/61 [00:00<?, ?it/s]"
      ]
     },
     "metadata": {},
     "output_type": "display_data"
    },
    {
     "data": {
      "application/vnd.jupyter.widget-view+json": {
       "model_id": "7ac2a7d8ebdc47b9b817f7e7120ea220",
       "version_major": 2,
       "version_minor": 0
      },
      "text/plain": [
       "Epoch 42/60:   0%|          | 0/61 [00:00<?, ?it/s]"
      ]
     },
     "metadata": {},
     "output_type": "display_data"
    },
    {
     "data": {
      "application/vnd.jupyter.widget-view+json": {
       "model_id": "9991f62c7afd4760821c1b075a102a3a",
       "version_major": 2,
       "version_minor": 0
      },
      "text/plain": [
       "Epoch 43/60:   0%|          | 0/61 [00:00<?, ?it/s]"
      ]
     },
     "metadata": {},
     "output_type": "display_data"
    },
    {
     "data": {
      "application/vnd.jupyter.widget-view+json": {
       "model_id": "bcb05676b89f48308f81246f28568d3e",
       "version_major": 2,
       "version_minor": 0
      },
      "text/plain": [
       "Epoch 44/60:   0%|          | 0/61 [00:00<?, ?it/s]"
      ]
     },
     "metadata": {},
     "output_type": "display_data"
    },
    {
     "data": {
      "application/vnd.jupyter.widget-view+json": {
       "model_id": "0ade2a3a1db145be918d90ada4c9a166",
       "version_major": 2,
       "version_minor": 0
      },
      "text/plain": [
       "Epoch 45/60:   0%|          | 0/61 [00:00<?, ?it/s]"
      ]
     },
     "metadata": {},
     "output_type": "display_data"
    },
    {
     "data": {
      "application/vnd.jupyter.widget-view+json": {
       "model_id": "fc2b9e29f57347bd890ce56cbe7e0a39",
       "version_major": 2,
       "version_minor": 0
      },
      "text/plain": [
       "Epoch 46/60:   0%|          | 0/61 [00:00<?, ?it/s]"
      ]
     },
     "metadata": {},
     "output_type": "display_data"
    },
    {
     "data": {
      "application/vnd.jupyter.widget-view+json": {
       "model_id": "c0f390a9f1404bb3a7131b3fc57258f4",
       "version_major": 2,
       "version_minor": 0
      },
      "text/plain": [
       "Epoch 47/60:   0%|          | 0/61 [00:00<?, ?it/s]"
      ]
     },
     "metadata": {},
     "output_type": "display_data"
    },
    {
     "data": {
      "application/vnd.jupyter.widget-view+json": {
       "model_id": "28fb4c1da4f842d8bce795c38af7fc2c",
       "version_major": 2,
       "version_minor": 0
      },
      "text/plain": [
       "Epoch 48/60:   0%|          | 0/61 [00:00<?, ?it/s]"
      ]
     },
     "metadata": {},
     "output_type": "display_data"
    },
    {
     "data": {
      "application/vnd.jupyter.widget-view+json": {
       "model_id": "90167cc494194402b00cfc53adf9510c",
       "version_major": 2,
       "version_minor": 0
      },
      "text/plain": [
       "Epoch 49/60:   0%|          | 0/61 [00:00<?, ?it/s]"
      ]
     },
     "metadata": {},
     "output_type": "display_data"
    },
    {
     "data": {
      "application/vnd.jupyter.widget-view+json": {
       "model_id": "4701d7f576f14190bcfeb3dedfe9348d",
       "version_major": 2,
       "version_minor": 0
      },
      "text/plain": [
       "Epoch 50/60:   0%|          | 0/61 [00:00<?, ?it/s]"
      ]
     },
     "metadata": {},
     "output_type": "display_data"
    },
    {
     "data": {
      "application/vnd.jupyter.widget-view+json": {
       "model_id": "fc6a079b88f64fb1b70a129431b70673",
       "version_major": 2,
       "version_minor": 0
      },
      "text/plain": [
       "Epoch 51/60:   0%|          | 0/61 [00:00<?, ?it/s]"
      ]
     },
     "metadata": {},
     "output_type": "display_data"
    },
    {
     "data": {
      "application/vnd.jupyter.widget-view+json": {
       "model_id": "0f47201ba09544ed91ec209c3d06e3ba",
       "version_major": 2,
       "version_minor": 0
      },
      "text/plain": [
       "Epoch 52/60:   0%|          | 0/61 [00:00<?, ?it/s]"
      ]
     },
     "metadata": {},
     "output_type": "display_data"
    },
    {
     "data": {
      "application/vnd.jupyter.widget-view+json": {
       "model_id": "f0d306a0fa3d4ed78d0d9683cc79e4a4",
       "version_major": 2,
       "version_minor": 0
      },
      "text/plain": [
       "Epoch 53/60:   0%|          | 0/61 [00:00<?, ?it/s]"
      ]
     },
     "metadata": {},
     "output_type": "display_data"
    },
    {
     "data": {
      "application/vnd.jupyter.widget-view+json": {
       "model_id": "04fa0687e5c14c5d814d6bf679cc906b",
       "version_major": 2,
       "version_minor": 0
      },
      "text/plain": [
       "Epoch 54/60:   0%|          | 0/61 [00:00<?, ?it/s]"
      ]
     },
     "metadata": {},
     "output_type": "display_data"
    },
    {
     "data": {
      "application/vnd.jupyter.widget-view+json": {
       "model_id": "7bcf4555b9b3475190b0704542ccee5f",
       "version_major": 2,
       "version_minor": 0
      },
      "text/plain": [
       "Epoch 55/60:   0%|          | 0/61 [00:00<?, ?it/s]"
      ]
     },
     "metadata": {},
     "output_type": "display_data"
    },
    {
     "data": {
      "application/vnd.jupyter.widget-view+json": {
       "model_id": "0dd0c53c257742ca85a17b333d7125d7",
       "version_major": 2,
       "version_minor": 0
      },
      "text/plain": [
       "Epoch 56/60:   0%|          | 0/61 [00:00<?, ?it/s]"
      ]
     },
     "metadata": {},
     "output_type": "display_data"
    },
    {
     "data": {
      "application/vnd.jupyter.widget-view+json": {
       "model_id": "a17533255a3a43e1b8c15b5a09783831",
       "version_major": 2,
       "version_minor": 0
      },
      "text/plain": [
       "Epoch 57/60:   0%|          | 0/61 [00:00<?, ?it/s]"
      ]
     },
     "metadata": {},
     "output_type": "display_data"
    },
    {
     "data": {
      "application/vnd.jupyter.widget-view+json": {
       "model_id": "fcb76bfe6ad64b9ab06ddb2c11de585a",
       "version_major": 2,
       "version_minor": 0
      },
      "text/plain": [
       "Epoch 58/60:   0%|          | 0/61 [00:00<?, ?it/s]"
      ]
     },
     "metadata": {},
     "output_type": "display_data"
    },
    {
     "data": {
      "application/vnd.jupyter.widget-view+json": {
       "model_id": "232f8683ecc04044acedde4cad6b73bf",
       "version_major": 2,
       "version_minor": 0
      },
      "text/plain": [
       "Epoch 59/60:   0%|          | 0/61 [00:00<?, ?it/s]"
      ]
     },
     "metadata": {},
     "output_type": "display_data"
    },
    {
     "data": {
      "application/vnd.jupyter.widget-view+json": {
       "model_id": "30ca56fdffb64303b4ba070b4f864f7a",
       "version_major": 2,
       "version_minor": 0
      },
      "text/plain": [
       "Epoch 60/60:   0%|          | 0/61 [00:00<?, ?it/s]"
      ]
     },
     "metadata": {},
     "output_type": "display_data"
    }
   ],
   "source": [
    "train_results = train(model, train_loader, val_loader, cfg=cfg_train,\n",
    "                      optimizer=optimizer, scheduler=lr_scheduler, scaler=scaler,\n",
    "                      writer=summary_writer)"
   ]
  },
  {
   "cell_type": "markdown",
   "id": "3884d0fa",
   "metadata": {},
   "source": [
    "### save all parameters used in the model and training"
   ]
  },
  {
   "cell_type": "code",
   "execution_count": null,
   "id": "594596db",
   "metadata": {},
   "outputs": [],
   "source": [
    "# save all the hyperparameters into a json file\n",
    "rl_scheduler_state_dict = lr_scheduler.state_dict() if lr_scheduler.__class__.__name__ != \"WarmupThenCosine\" else {\n",
    "            k:v for k, v in lr_scheduler.state_dict().items() if k != \"cosine\"}\n",
    "all_hparams_cfg = {\n",
    "    \"tokenizer\" : {\n",
    "        \"type\": \"bytelevel_bpe\",\n",
    "        \"n_merges\": N_MERGES,\n",
    "        \"min_frequency\": MIN_FREQ,\n",
    "        \"special_tokens\": SPECIAL_TOKENS,\n",
    "        \"path\": os.path.join(tok_dir, tok_name),\n",
    "    },\n",
    "    \"data\": {\n",
    "        \"batch_size\": BATCH_SIZE,\n",
    "        \"block_size\": BLOCK_SIZE,\n",
    "    },\n",
    "    \"model\": {\"cfg\": vars(cfg_model).copy(), \"model_size\": model_size},\n",
    "    \"optimizer\": {\n",
    "        \"type\": optimizer.__class__.__name__,\n",
    "        \"lr\": LR,\n",
    "        \"weight_decay\": WEIGHT_DECAY,\n",
    "        \"defaults\": optimizer.defaults,\n",
    "    },\n",
    "    \"lr_scheduler\": {\n",
    "        \"type\": lr_scheduler.__class__.__name__,\n",
    "        \"eta_min\": ETA_MIN,\n",
    "        \"state_dict\": rl_scheduler_state_dict,\n",
    "    },\n",
    "    \"scaler\": {\n",
    "        \"type\": scaler.__class__.__name__,\n",
    "        \"enabled\": scaler.is_enabled(),\n",
    "        \"state_dict\": scaler.state_dict(),\n",
    "    },\n",
    "    \"training\": {\"cfg\": vars(cfg_train).copy()},\n",
    "    \"results\": train_results,\n",
    "}\n",
    "\n",
    "# save it to checkpoint dir, same prefix as checkpoint files\n",
    "with open(os.path.join(CHECKPOINT_DIR, all_hparams_cfg_filename), \"w\") as f:\n",
    "    json.dump(all_hparams_cfg, f, indent=4)\n",
    "\n",
    "# write it to tensorboard\n",
    "summary_writer.add_text(\"config/json\", \"```json\\n\" + json.dumps(all_hparams_cfg, indent=2, sort_keys=True) + \"\\n```\", global_step=0)\n",
    "summary_writer.flush()\n",
    "summary_writer.close()"
   ]
  },
  {
   "cell_type": "markdown",
   "id": "bce528e2",
   "metadata": {},
   "source": [
    "## results and evaluation"
   ]
  },
  {
   "cell_type": "markdown",
   "id": "603f2cf1",
   "metadata": {},
   "source": [
    "### load a saved model (can skip if using a freshly trained model)"
   ]
  },
  {
   "cell_type": "code",
   "execution_count": 4,
   "id": "3e02c844",
   "metadata": {},
   "outputs": [
    {
     "name": "stdout",
     "output_type": "stream",
     "text": [
      "loaded full config from:  ../checkpoints/GPT/gpt_em128_hd4_ly2_bpe200_hparams.json\n",
      "loading model from checkpoint:  ../checkpoints/GPT/gpt_em128_hd4_ly2_bpe200_best.pt\n",
      "tokenizer vocab size:  460\n"
     ]
    }
   ],
   "source": [
    "# full_cfg_path = os.path.join(CHECKPOINT_DIR, all_hparams_cfg_filename)\n",
    "all_hparams_cfg_path = os.path.join(CHECKPOINT_DIR, \"gpt_em128_hd4_ly2_bpe200_hparams.json\")\n",
    "with open(all_hparams_cfg_path, \"r\") as f:\n",
    "    all_hparams_cfg = json.load(f)\n",
    "print(\"loaded full config from: \", all_hparams_cfg_path)\n",
    "# print(json.dumps(full_cfg, indent=4))\n",
    "\n",
    "ckpt_name = all_hparams_cfg[\"training\"][\"cfg\"].get(\"ckpt_best_path\", None)\n",
    "print(\"loading model from checkpoint: \", ckpt_name)\n",
    "cfg_train = ConfigTrain(**all_hparams_cfg[\"training\"][\"cfg\"])\n",
    "cfg_train.device = \"cuda\" if torch.cuda.is_available() else \"cpu\"\n",
    "\n",
    "batch_size = all_hparams_cfg[\"data\"][\"batch_size\"]\n",
    "block_size = all_hparams_cfg[\"data\"][\"block_size\"]\n",
    "n_merges = all_hparams_cfg[\"tokenizer\"][\"n_merges\"]\n",
    "min_freq = all_hparams_cfg[\"tokenizer\"][\"min_frequency\"]\n",
    "model_size = all_hparams_cfg[\"model\"].get(\"model_size\", None)\n",
    "train_results = all_hparams_cfg.get(\"results\", {})\n",
    "ckpt = load_checkpoint(ckpt_name, map_location=cfg_train.device, weights_only=False)\n",
    "\n",
    "model = GPT(config=ConfigGPT(**all_hparams_cfg[\"model\"][\"cfg\"]))\n",
    "model.load_state_dict(ckpt['model'])\n",
    "model.to(cfg_train.device)\n",
    "\n",
    "bpe_tokenizer = load_tokenizer(os.path.join(all_hparams_cfg[\"tokenizer\"][\"path\"]))\n",
    "encode = partial(bpe_tokenizer.encode, add_special_tokens=False)\n",
    "decode = bpe_tokenizer.decode\n",
    "vocab_size = bpe_tokenizer.get_vocab_size()\n",
    "print(\"tokenizer vocab size: \", vocab_size)\n",
    "train_loader = init_dataloader(encode(train_text).ids, block_size=block_size, batch_size=batch_size, train=True, shuffle=True)\n",
    "val_loader = init_dataloader(encode(val_text).ids, block_size=block_size, batch_size=batch_size, train=False, shuffle=True)\n",
    "test_loader = init_dataloader(encode(test_text).ids, block_size=block_size, batch_size=batch_size, train=False, shuffle=False)\n"
   ]
  },
  {
   "cell_type": "markdown",
   "id": "2932c123",
   "metadata": {},
   "source": [
    "### plot training curves and test on test set"
   ]
  },
  {
   "cell_type": "code",
   "execution_count": null,
   "id": "115a5050",
   "metadata": {},
   "outputs": [
    {
     "data": {
      "text/html": [
       "<div>\n",
       "<style scoped>\n",
       "    .dataframe tbody tr th:only-of-type {\n",
       "        vertical-align: middle;\n",
       "    }\n",
       "\n",
       "    .dataframe tbody tr th {\n",
       "        vertical-align: top;\n",
       "    }\n",
       "\n",
       "    .dataframe thead th {\n",
       "        text-align: right;\n",
       "    }\n",
       "</style>\n",
       "<table border=\"1\" class=\"dataframe\">\n",
       "  <thead>\n",
       "    <tr style=\"text-align: right;\">\n",
       "      <th></th>\n",
       "      <th>train_loss</th>\n",
       "      <th>train_ppl</th>\n",
       "      <th>val_ppl</th>\n",
       "      <th>val_loss</th>\n",
       "      <th>epoch</th>\n",
       "    </tr>\n",
       "  </thead>\n",
       "  <tbody>\n",
       "    <tr>\n",
       "      <th>0</th>\n",
       "      <td>5.590628</td>\n",
       "      <td>267.903839</td>\n",
       "      <td>211.852203</td>\n",
       "      <td>5.355889</td>\n",
       "      <td>1</td>\n",
       "    </tr>\n",
       "    <tr>\n",
       "      <th>1</th>\n",
       "      <td>4.870488</td>\n",
       "      <td>130.384552</td>\n",
       "      <td>100.527435</td>\n",
       "      <td>4.610431</td>\n",
       "      <td>3</td>\n",
       "    </tr>\n",
       "    <tr>\n",
       "      <th>2</th>\n",
       "      <td>4.148836</td>\n",
       "      <td>63.360184</td>\n",
       "      <td>52.401726</td>\n",
       "      <td>3.958940</td>\n",
       "      <td>5</td>\n",
       "    </tr>\n",
       "    <tr>\n",
       "      <th>3</th>\n",
       "      <td>3.780585</td>\n",
       "      <td>43.841682</td>\n",
       "      <td>38.994892</td>\n",
       "      <td>3.663431</td>\n",
       "      <td>7</td>\n",
       "    </tr>\n",
       "    <tr>\n",
       "      <th>4</th>\n",
       "      <td>3.584676</td>\n",
       "      <td>36.041660</td>\n",
       "      <td>32.906555</td>\n",
       "      <td>3.493672</td>\n",
       "      <td>9</td>\n",
       "    </tr>\n",
       "  </tbody>\n",
       "</table>\n",
       "</div>"
      ],
      "text/plain": [
       "   train_loss   train_ppl     val_ppl  val_loss  epoch\n",
       "0    5.590628  267.903839  211.852203  5.355889      1\n",
       "1    4.870488  130.384552  100.527435  4.610431      3\n",
       "2    4.148836   63.360184   52.401726  3.958940      5\n",
       "3    3.780585   43.841682   38.994892  3.663431      7\n",
       "4    3.584676   36.041660   32.906555  3.493672      9"
      ]
     },
     "metadata": {},
     "output_type": "display_data"
    },
    {
     "data": {
      "text/html": [
       "<div>\n",
       "<style scoped>\n",
       "    .dataframe tbody tr th:only-of-type {\n",
       "        vertical-align: middle;\n",
       "    }\n",
       "\n",
       "    .dataframe tbody tr th {\n",
       "        vertical-align: top;\n",
       "    }\n",
       "\n",
       "    .dataframe thead th {\n",
       "        text-align: right;\n",
       "    }\n",
       "</style>\n",
       "<table border=\"1\" class=\"dataframe\">\n",
       "  <thead>\n",
       "    <tr style=\"text-align: right;\">\n",
       "      <th></th>\n",
       "      <th>train_loss</th>\n",
       "      <th>train_ppl</th>\n",
       "      <th>val_ppl</th>\n",
       "      <th>val_loss</th>\n",
       "      <th>epoch</th>\n",
       "    </tr>\n",
       "  </thead>\n",
       "  <tbody>\n",
       "    <tr>\n",
       "      <th>25</th>\n",
       "      <td>2.735863</td>\n",
       "      <td>15.423040</td>\n",
       "      <td>13.960600</td>\n",
       "      <td>2.636239</td>\n",
       "      <td>51</td>\n",
       "    </tr>\n",
       "    <tr>\n",
       "      <th>26</th>\n",
       "      <td>2.735249</td>\n",
       "      <td>15.413582</td>\n",
       "      <td>13.942053</td>\n",
       "      <td>2.634910</td>\n",
       "      <td>53</td>\n",
       "    </tr>\n",
       "    <tr>\n",
       "      <th>27</th>\n",
       "      <td>2.732192</td>\n",
       "      <td>15.366534</td>\n",
       "      <td>13.923437</td>\n",
       "      <td>2.633574</td>\n",
       "      <td>55</td>\n",
       "    </tr>\n",
       "    <tr>\n",
       "      <th>28</th>\n",
       "      <td>2.729877</td>\n",
       "      <td>15.330997</td>\n",
       "      <td>13.920373</td>\n",
       "      <td>2.633354</td>\n",
       "      <td>57</td>\n",
       "    </tr>\n",
       "    <tr>\n",
       "      <th>29</th>\n",
       "      <td>2.730824</td>\n",
       "      <td>15.345533</td>\n",
       "      <td>13.926156</td>\n",
       "      <td>2.633769</td>\n",
       "      <td>59</td>\n",
       "    </tr>\n",
       "  </tbody>\n",
       "</table>\n",
       "</div>"
      ],
      "text/plain": [
       "    train_loss  train_ppl    val_ppl  val_loss  epoch\n",
       "25    2.735863  15.423040  13.960600  2.636239     51\n",
       "26    2.735249  15.413582  13.942053  2.634910     53\n",
       "27    2.732192  15.366534  13.923437  2.633574     55\n",
       "28    2.729877  15.330997  13.920373  2.633354     57\n",
       "29    2.730824  15.345533  13.926156  2.633769     59"
      ]
     },
     "metadata": {},
     "output_type": "display_data"
    },
    {
     "data": {
      "image/png": "[encoded data removed]",
      "text/plain": [
       "<Figure size 1200x500 with 2 Axes>"
      ]
     },
     "metadata": {},
     "output_type": "display_data"
    }
   ],
   "source": [
    "# make train_loss, train_ppl, val_ppl, val_loss and epochs into a DataFrame\n",
    "history = train_results[\"history\"]\n",
    "history_df = pd.DataFrame(history)\n",
    "\n",
    "display(history_df.head())\n",
    "display(history_df.tail())\n",
    "\n",
    "plt.figure(figsize=(12, 5))\n",
    "plt.suptitle(f\"GPT Training Curves, Model size: {model_size:_} parameters\\n\", fontsize=16)\n",
    "# loss \n",
    "plt.subplot(1, 2, 1)\n",
    "plt.plot(history_df['epoch'], history_df[\"train_loss\"], label=\"Train Loss\")\n",
    "plt.plot(history_df['epoch'], history_df[\"val_loss\"], label=\"Val Loss\")\n",
    "plt.xlabel(\"Epochs\")\n",
    "plt.ylabel(\"Loss\")\n",
    "# plt.xticks(history_df['epochs'][::int(len(history_df['epochs'])//9)+1])  \n",
    "plt.title(\"Loss\")\n",
    "plt.legend()\n",
    "plt.grid()\n",
    "\n",
    "# perplexity\n",
    "plt.subplot(1, 2, 2)\n",
    "plt.plot(history_df['epoch'], history_df[\"train_ppl\"], label=\"Train PPL\")\n",
    "plt.plot(history_df['epoch'], history_df[\"val_ppl\"], label=\"Val PPL\")\n",
    "plt.xlabel(\"Epochs\")\n",
    "plt.ylabel(\"Perplexity\")\n",
    "# plt.xticks(history_df['epochs'][::int(len(history_df['epochs'])//9)+1])  \n",
    "plt.title(\"Perplexity\")\n",
    "plt.legend()\n",
    "plt.grid()\n",
    "plt.tight_layout()\n",
    "\n",
    "# save the training plot\n",
    "plt.savefig(os.path.join(RESULTS_DIR, f\"GPT_training_plot.png\")) \n",
    "\n",
    "plt.show()"
   ]
  },
  {
   "cell_type": "code",
   "execution_count": 6,
   "id": "37dcf010",
   "metadata": {},
   "outputs": [
    {
     "data": {
      "text/html": [
       "<div>\n",
       "<style scoped>\n",
       "    .dataframe tbody tr th:only-of-type {\n",
       "        vertical-align: middle;\n",
       "    }\n",
       "\n",
       "    .dataframe tbody tr th {\n",
       "        vertical-align: top;\n",
       "    }\n",
       "\n",
       "    .dataframe thead th {\n",
       "        text-align: right;\n",
       "    }\n",
       "</style>\n",
       "<table border=\"1\" class=\"dataframe\">\n",
       "  <thead>\n",
       "    <tr style=\"text-align: right;\">\n",
       "      <th></th>\n",
       "      <th>split</th>\n",
       "      <th>loss(NLL)</th>\n",
       "      <th>perplexity</th>\n",
       "    </tr>\n",
       "  </thead>\n",
       "  <tbody>\n",
       "    <tr>\n",
       "      <th>0</th>\n",
       "      <td>train</td>\n",
       "      <td>2.730824</td>\n",
       "      <td>15.345533</td>\n",
       "    </tr>\n",
       "    <tr>\n",
       "      <th>1</th>\n",
       "      <td>val</td>\n",
       "      <td>2.633353</td>\n",
       "      <td>13.920373</td>\n",
       "    </tr>\n",
       "    <tr>\n",
       "      <th>2</th>\n",
       "      <td>test</td>\n",
       "      <td>2.568939</td>\n",
       "      <td>13.051966</td>\n",
       "    </tr>\n",
       "  </tbody>\n",
       "</table>\n",
       "</div>"
      ],
      "text/plain": [
       "   split  loss(NLL)  perplexity\n",
       "0  train   2.730824   15.345533\n",
       "1    val   2.633353   13.920373\n",
       "2   test   2.568939   13.051966"
      ]
     },
     "metadata": {},
     "output_type": "display_data"
    }
   ],
   "source": [
    "# final evaluation on the test set\n",
    "test_nll = evaluate(model, test_loader, cfg_train.device)\n",
    "test_ppl = np.exp(test_nll)\n",
    "\n",
    "val_ppl = train_results[\"best_val_ppl\"]\n",
    "train_ppl = train_results[\"best_train_ppl\"]\n",
    "\n",
    "val_nll = torch.log(torch.tensor(val_ppl)).item()\n",
    "train_nll = torch.log(torch.tensor(train_ppl)).item()\n",
    "\n",
    "# display in a DataFrame\n",
    "test_results_df = pd.DataFrame({\n",
    "    \"split\": [\"train\", \"val\", \"test\"],\n",
    "    \"loss(NLL)\": [train_nll, val_nll, test_nll],\n",
    "    \"perplexity\": [train_ppl, val_ppl, test_ppl],\n",
    "})\n",
    "display(test_results_df)"
   ]
  },
  {
   "cell_type": "code",
   "execution_count": 7,
   "id": "8b11e858",
   "metadata": {},
   "outputs": [
    {
     "name": "stdout",
     "output_type": "stream",
     "text": [
      "test results saved to ../results/GPT/test_performance_results.csv\n"
     ]
    }
   ],
   "source": [
    "# save test results\n",
    "test_results_filename = os.path.join(RESULTS_DIR, \"test_performance_results.csv\")\n",
    "test_results_df.to_csv(test_results_filename, index=False)\n",
    "print(f\"test results saved to {test_results_filename}\")"
   ]
  },
  {
   "cell_type": "markdown",
   "id": "aa674cb0",
   "metadata": {},
   "source": [
    "### generate text from the trained model"
   ]
  },
  {
   "cell_type": "code",
   "execution_count": 8,
   "id": "7f24b7f5",
   "metadata": {},
   "outputs": [
    {
     "name": "stdout",
     "output_type": "stream",
     "text": [
      "used tokenizer: bytelevel_bpe, merges: 200, min_freq: 2\n",
      ">>>> <context>\n",
      " -------------------- \n",
      "<<<< <generated_text>\n",
      "\n",
      " --------------------------------------------------------------------------------\n",
      ">>>>  shall the lovers\n",
      "--------------------\n",
      "<<<<  .\n",
      "\n",
      "\n",
      "LADY MACBETH\n",
      "My son.\n",
      "\n",
      "\n",
      "\n",
      "HAMLET\n",
      "Your is noby to be sword?\n",
      "\n",
      "\n",
      "\n",
      "HAMLET\n",
      "Drushing too, you did me; here to enough he met;\n",
      "I take then I damning to give.\n",
      "\n",
      "\n",
      "IAGO\n",
      "The\n",
      "\n",
      " --------------------------------------------------------------------------------\n",
      ">>>> UCK\n",
      "M\n",
      "--------------------\n",
      "<<<<  adam?\n",
      "\n",
      "\n",
      "\n",
      "HAMLET\n",
      "As it be done?\n",
      "\n",
      "\n",
      "\n",
      "IAGO\n",
      "Well, go, mark,\n",
      "To have a tears for swall'd; and my soul of foul,\n",
      "And mind out speeps could be bid my presently,\n",
      "And the gold, to\n",
      "\n",
      " --------------------------------------------------------------------------------\n",
      ">>>> s all,\n",
      "T\n",
      "--------------------\n",
      "<<<<  o woman sweet with the friend rather, hors,\n",
      "And what poorpertion, with the grows?\n",
      "\n",
      "\n",
      "\n",
      "DEMONA\n",
      "My lord?\n",
      "\n",
      "\n",
      "ECLLOTRA\n",
      "Do not so?\n",
      "\n",
      "\n",
      "ESDEMONA\n",
      "Two what sorth said, and a\n",
      "\n",
      " --------------------------------------------------------------------------------\n",
      ">>>> ON\n",
      "But we\n",
      "--------------------\n",
      "<<<<   fight, what I know you are better, or no bled,\n",
      "Than foother's house of very chaty\n",
      "To temph. Come, that flight and comporness\n",
      "Here would have must be again; but let me passion.\n",
      "\n",
      "\n",
      "\n",
      "PORTIA\n",
      "But\n",
      "\n",
      " --------------------------------------------------------------------------------\n",
      ">>>>  salt gre\n",
      "--------------------\n",
      "<<<<  ath to beard:\n",
      "For I will have spove you she which till he did the men.\n",
      "\n",
      "\n",
      "\n",
      "First Soldier\n",
      "These spirr\n",
      "Clowns, sir, get himself; let me to come\n",
      "Upon the childre, Jew rus: there shall he\n",
      "And\n"
     ]
    }
   ],
   "source": [
    "# get a batch from validation set and generate text\n",
    "batch_gen = 5\n",
    "max_new_tokens = 100\n",
    "\n",
    "unified_context = \" \".join(test_text.split()[:3])\n",
    "unified_context_ids = encode(unified_context, add_special_tokens=False).ids\n",
    "context_len = len(unified_context_ids)\n",
    "\n",
    "context_ids_batch, _ = next(iter(test_loader))\n",
    "# replace first row with unified_context_ids\n",
    "context_ids_batch[0, :context_len] = torch.tensor(unified_context_ids[:block_size], dtype=torch.long)\n",
    "\n",
    "context_ids_batch = context_ids_batch.to(cfg_train.device, non_blocking=True)\n",
    "# generate text from the model\n",
    "generated_text = model.generate(context_ids_batch[:batch_gen, :context_len], max_new_tokens=max_new_tokens, temperature=0.9, top_k=20)\n",
    "\n",
    "print(f\"used tokenizer: bytelevel_bpe, merges: {n_merges}, min_freq: {min_freq}\")\n",
    "print(f\">>>> <context>\\n\", \"-\" *20, \"\\n<<<< <generated_text>\")\n",
    "for i, text in enumerate(generated_text):\n",
    "    print(\"\\n\", \"-\" * 80)\n",
    "    print(\">>>>\", decode(text[:context_len].tolist()))\n",
    "    print(\"-\" * 20)\n",
    "    print(\"<<<< \", decode(text[context_len:].tolist()))\n",
    "    if i + 1 >= batch_gen:\n",
    "        break"
   ]
  },
  {
   "cell_type": "code",
   "execution_count": 9,
   "id": "1e8726b6",
   "metadata": {},
   "outputs": [
    {
     "name": "stdout",
     "output_type": "stream",
     "text": [
      "generation results saved to ../results/GPT/text_generation_results.txt\n"
     ]
    }
   ],
   "source": [
    "# save generation results to a text file\n",
    "gen_results_filename = os.path.join(RESULTS_DIR, \"text_generation_results.txt\")\n",
    "with open(gen_results_filename, \"w\", encoding=\"utf-8\") as f:\n",
    "    f.write(f\"used tokenizer: bytelevel_bpe, merges: {n_merges}, min_freq: {min_freq}\\n\")\n",
    "    f.write(f\">>>> <context>\\n\")\n",
    "    f.write(\"-\" * 20 + \"\\n\")\n",
    "    f.write(f\"<<<< <generated_text>\\n\")\n",
    "    for i, text in enumerate(generated_text):\n",
    "        f.write(\"\\n\" + \"-\" * 80 + \"\\n\")\n",
    "        f.write(\">>>> \" + decode(text[:context_len].tolist()) + \"\\n\")\n",
    "        f.write(\"-\" * 20 + \"\\n\")\n",
    "        f.write(\"<<<< \" + decode(text[context_len:].tolist()) + \"\\n\")\n",
    "        if i + 1 >= batch_gen:\n",
    "            break\n",
    "print(f\"generation results saved to {gen_results_filename}\")"
   ]
  }
 ],
 "metadata": {
  "kernelspec": {
   "display_name": ".venv (3.12.3)",
   "language": "python",
   "name": "python3"
  },
  "language_info": {
   "codemirror_mode": {
    "name": "ipython",
    "version": 3
   },
   "file_extension": ".py",
   "mimetype": "text/x-python",
   "name": "python",
   "nbconvert_exporter": "python",
   "pygments_lexer": "ipython3",
   "version": "3.12.3"
  }
 },
 "nbformat": 4,
 "nbformat_minor": 5
}
